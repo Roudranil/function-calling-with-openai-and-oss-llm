{
 "cells": [
  {
   "cell_type": "code",
   "execution_count": 1,
   "metadata": {},
   "outputs": [],
   "source": [
    "from scraper import Scraper\n",
    "from dotenv import dotenv_values\n",
    "\n",
    "config = dotenv_values(\"../.env\")"
   ]
  },
  {
   "cell_type": "code",
   "execution_count": 2,
   "metadata": {},
   "outputs": [],
   "source": [
    "scraper = Scraper(config[\"URL\"])\n",
    "table_rows = scraper.get_table()"
   ]
  },
  {
   "cell_type": "code",
   "execution_count": 3,
   "metadata": {},
   "outputs": [],
   "source": [
    "from pydantic import BaseModel, ValidationError, Field, create_model\n",
    "from typing import (\n",
    "    List,\n",
    "    Optional,\n",
    "    Callable,\n",
    "    Type,\n",
    ")\n",
    "import openai\n",
    "from openai.types.chat import (\n",
    "    ChatCompletionMessage,\n",
    "    ChatCompletionMessageParam,\n",
    ")\n",
    "import json\n",
    "from functools import wraps\n",
    "from docstring_parser import parse"
   ]
  },
  {
   "cell_type": "markdown",
   "metadata": {},
   "source": [
    "## trial run\n"
   ]
  },
  {
   "cell_type": "code",
   "execution_count": 4,
   "metadata": {},
   "outputs": [],
   "source": [
    "def create(\n",
    "    client: openai.OpenAI,\n",
    "    messages: List[dict],\n",
    "    model_class: BaseModel,\n",
    "    retry=2,\n",
    "    temperature=0,\n",
    "    **kwargs,\n",
    ") -> BaseModel:\n",
    "    messages.append(\n",
    "        {\n",
    "            \"role\": \"system\",\n",
    "            \"content\": f\"Please respond ONLY with valid json that conforms to this pydantic json_schema: {model_class.model_json_schema()}. Do not include additional text other than the object json as we will load this object with json.loads() and pydantic.\",\n",
    "        }\n",
    "    )\n",
    "\n",
    "    last_exception = None\n",
    "    for i in range(retry + 1):\n",
    "        response = client.chat.completions.create(\n",
    "            messages=messages, temperature=temperature, **kwargs\n",
    "        )\n",
    "        assistant_message = response[\"choices\"][0][\"message\"]\n",
    "        content = assistant_message[\"content\"]\n",
    "        try:\n",
    "            json_content = json.loads(content)\n",
    "        except Exception as e:\n",
    "            last_exception = e\n",
    "            error_msg = f\"json.loads exception: {e}\"\n",
    "            messages.append(assistant_message)\n",
    "            messages.append({\"role\": \"system\", \"content\": error_msg})\n",
    "            continue\n",
    "        try:\n",
    "            return model_class(**json_content)\n",
    "        except ValidationError as e:\n",
    "            last_exception = e\n",
    "            error_msg = f\"pydantic exception: {e}\"\n",
    "            messages.append(assistant_message)\n",
    "            messages.append({\"role\": \"system\", \"content\": error_msg})\n",
    "    raise last_exception"
   ]
  },
  {
   "cell_type": "code",
   "execution_count": 11,
   "metadata": {},
   "outputs": [],
   "source": [
    "import together"
   ]
  },
  {
   "cell_type": "code",
   "execution_count": 12,
   "metadata": {},
   "outputs": [],
   "source": [
    "together.api_key = config[\"MISTRAL_API_KEY\"]"
   ]
  },
  {
   "cell_type": "code",
   "execution_count": 13,
   "metadata": {},
   "outputs": [
    {
     "name": "stdout",
     "output_type": "stream",
     "text": [
      "118 models available\n"
     ]
    },
    {
     "data": {
      "text/plain": [
       "['Austism/chronos-hermes-13b',\n",
       " 'DiscoResearch/DiscoLM-mixtral-8x7b-v2',\n",
       " 'EleutherAI/llemma_7b',\n",
       " 'Gryphe/MythoMax-L2-13b',\n",
       " 'Meta-Llama/Llama-Guard-7b',\n",
       " 'Nexusflow/NexusRaven-V2-13B',\n",
       " 'NousResearch/Nous-Capybara-7B-V1p9',\n",
       " 'NousResearch/Nous-Hermes-Llama2-13b',\n",
       " 'NousResearch/Nous-Hermes-Llama2-70b',\n",
       " 'NousResearch/Nous-Hermes-llama-2-7b']"
      ]
     },
     "execution_count": 13,
     "metadata": {},
     "output_type": "execute_result"
    }
   ],
   "source": [
    "# see available models\n",
    "model_list = together.Models.list()\n",
    "\n",
    "print(f\"{len(model_list)} models available\")\n",
    "\n",
    "# print the first 10 models on the menu\n",
    "model_names = [model_dict[\"name\"] for model_dict in model_list]\n",
    "model_names[:10]"
   ]
  },
  {
   "cell_type": "code",
   "execution_count": 14,
   "metadata": {},
   "outputs": [
    {
     "name": "stdout",
     "output_type": "stream",
     "text": [
      "Isaac Asimov's Three Laws of Robotics are:\n",
      "1. A robot may not injure a human being or, through inaction, allow a human being to come to harm.\n",
      "2. A robot must obey orders given it by human beings, except where such orders would conflict with the First Law.\n",
      "3. A robot must protect its own existence, as long as such protection does not conflict with the First or Second Laws.\n"
     ]
    }
   ],
   "source": [
    "output = together.Complete.create(\n",
    "    prompt=\"<human>: What are Isaac Asimov's Three Laws of Robotics?\\n<bot>:\",\n",
    "    model=\"mistralai/Mistral-7B-Instruct-v0.1\",\n",
    "    max_tokens=256,\n",
    "    temperature=0.8,\n",
    "    top_k=60,\n",
    "    top_p=0.6,\n",
    "    repetition_penalty=1.1,\n",
    "    stop=[\"<human>\", \"\\n\\n\"],\n",
    ")\n",
    "\n",
    "# print generated text\n",
    "print(output[\"output\"][\"choices\"][0][\"text\"])"
   ]
  },
  {
   "cell_type": "code",
   "execution_count": 60,
   "metadata": {},
   "outputs": [
    {
     "name": "stdout",
     "output_type": "stream",
     "text": [
      "Football is a popular sport played between two teams of 11 players each. The objective of the game is to score more points than the opposing team by kicking a ball into the opponent's goal. The game is played on a rectangular field with goalposts at each end. The ball is moved around the field by passing it between players or by dribbling it with the feet. The game is governed by a set of rules known as the Laws of the Game, which are enforced by referees.\n"
     ]
    }
   ],
   "source": [
    "client = openai.OpenAI(\n",
    "    api_key=config[\"MISTRAL_API_KEY\"],\n",
    "    base_url=\"https://api.together.xyz\",\n",
    ")\n",
    "\n",
    "chat_completion = client.chat.completions.create(\n",
    "    messages=[\n",
    "        {\n",
    "            \"role\": \"user\",\n",
    "            \"content\": \"Describe the sport of football\",\n",
    "        }\n",
    "    ],\n",
    "    model=\"togethercomputer/falcon-40b-instruct\",\n",
    "    max_tokens=512,\n",
    ")\n",
    "\n",
    "print(chat_completion.choices[0].message.content)"
   ]
  },
  {
   "cell_type": "code",
   "execution_count": 26,
   "metadata": {},
   "outputs": [
    {
     "data": {
      "text/plain": [
       "['\"Football, also known as soccer in some countries, is a popular sport played all around the world. It is a team sport that involves two teams of eleven players each, who aim to score goals by kicking a ball into the opposing team\\'s net. The team with the most goals at the end of the game wins.',\n",
       " \"The game is played on a rectangular field, called a pitch or a stadium, with a goal at either end. The teams take turns kicking the ball, with the aim of making it land in the opposing team's goal. Players can use any part of their body except for their arms and hands to move the ball, and only the goalkeeper is allowed to use their hands within their designated penalty area.\",\n",
       " 'Football is a fast-paced game that requires a lot of physical fitness, as well as skill and teamwork. Players must be able to run, sprint, tackle, and pass the ball with precision, while also defending their own goal and trying to score goals for their team.',\n",
       " 'The game is officiated by a referee and two assistant referees, who are responsible for enforcing the rules of the game, making calls, and keeping the time. Football matches can last for up to two hours, with two halves of 45 minutes each, and there is usually a half-time break.',\n",
       " 'Football is enjoyed by millions of people all over the world, and is considered to be the most popular sport in many countries. It is a sport that can be played by people of all ages and skill levels, and is a great way to stay active and enjoy teamwork.\"']"
      ]
     },
     "execution_count": 26,
     "metadata": {},
     "output_type": "execute_result"
    }
   ],
   "source": [
    "chat_completion.choices[0].message.content.__repr__().split(\"\\\\n\\\\n\")"
   ]
  },
  {
   "cell_type": "code",
   "execution_count": 56,
   "metadata": {},
   "outputs": [],
   "source": [
    "message = chat_completion.choices[0].message"
   ]
  },
  {
   "cell_type": "code",
   "execution_count": 58,
   "metadata": {},
   "outputs": [],
   "source": [
    "message.function_call"
   ]
  },
  {
   "cell_type": "markdown",
   "metadata": {},
   "source": [
    "## Schema creation\n"
   ]
  },
  {
   "cell_type": "code",
   "execution_count": 4,
   "metadata": {},
   "outputs": [],
   "source": [
    "class Schema(BaseModel):\n",
    "    @classmethod\n",
    "    @property\n",
    "    def custom_schema(cls):\n",
    "        schema = cls.model_json_schema()\n",
    "        docstring = parse(cls.__doc__ or \"\")\n",
    "        parameters = {\n",
    "            k: v for k, v in schema.items() if k not in (\"title\", \"description\")\n",
    "        }\n",
    "        for param in docstring.params:\n",
    "            if (name := param.arg_name) in parameters[\"properties\"] and (\n",
    "                description := param.description\n",
    "            ):\n",
    "                if \"description\" not in parameters[\"properties\"][name]:\n",
    "                    parameters[\"properties\"][name][\"description\"] = description\n",
    "\n",
    "        parameters[\"required\"] = sorted(\n",
    "            k for k, v in parameters[\"properties\"].items() if \"default\" not in v\n",
    "        )\n",
    "\n",
    "        if \"description\" not in schema:\n",
    "            if docstring.short_description:\n",
    "                schema[\"description\"] = docstring.short_description\n",
    "            else:\n",
    "                schema[\"description\"] = (\n",
    "                    f\"Correctly extracted `{cls.__name__}` with all \"\n",
    "                    f\"the required parameters with correct types\"\n",
    "                )\n",
    "\n",
    "        return {\n",
    "            \"name\": schema[\"title\"],\n",
    "            \"description\": schema[\"description\"],\n",
    "            \"parameters\": parameters,\n",
    "        }\n",
    "\n",
    "    @classmethod\n",
    "    def from_response(cls, chat, validation_context=None, strict: bool = None):\n",
    "        message = chat[\"choices\"][0][\"message\"]\n",
    "        assert (\n",
    "            message[\"function_call\"][\"name\"] == cls.custom_schema[\"name\"]\n",
    "        ), \"Function name does not match\"\n",
    "        return cls.model_validate_json(\n",
    "            message[\"function_call\"][\"arguments\"],\n",
    "            context=validation_context,\n",
    "            strict=strict,\n",
    "        )\n",
    "\n",
    "\n",
    "def convert_to_schema(cls) -> Schema:\n",
    "    if not issubclass(cls, BaseModel):\n",
    "        raise TypeError(\"Class must be subclass of pydantic.BaseModel\")\n",
    "\n",
    "    return wraps(cls, updated=())(create_model(cls.__name__, __base__=(cls, Schema)))"
   ]
  },
  {
   "cell_type": "code",
   "execution_count": 5,
   "metadata": {},
   "outputs": [],
   "source": [
    "def handle_response_model(*, response_model: Type[BaseModel], kwargs):\n",
    "    new_kwargs = kwargs.copy()\n",
    "    if response_model is not None:\n",
    "        if not issubclass(response_model, Schema):\n",
    "            response_model = convert_to_schema(response_model)\n",
    "\n",
    "    new_kwargs[\"functions\"] = [response_model.custom_schema]\n",
    "    new_kwargs[\"function_call\"] = {\"name\": response_model.custom_schema[\"name\"]}\n",
    "    return response_model, new_kwargs\n",
    "\n",
    "\n",
    "def process_response(\n",
    "    response,\n",
    "    *,\n",
    "    response_model: Type[BaseModel],\n",
    "    stream: bool,\n",
    "    validation_context: dict = None,\n",
    "    strict: bool = None,\n",
    "):\n",
    "    model = response_model.from_response(\n",
    "        response.model_dump(), validation_context, strict=strict\n",
    "    )\n",
    "    return model\n",
    "\n",
    "\n",
    "def dump_message(message: ChatCompletionMessage) -> ChatCompletionMessageParam:\n",
    "    return_value: ChatCompletionMessageParam = {\n",
    "        \"role\": message.role,\n",
    "        \"content\": message.content or \"\",\n",
    "    }\n",
    "    if message.tool_calls is not None:\n",
    "        return_value[\"content\"] += json.dumps(message.model_dump()[\"tool_calls\"])\n",
    "    if message.function_call is not None:\n",
    "        return_value[\"content\"] += json.dumps(message.model_dump()[\"function_call\"])\n",
    "    return return_value\n",
    "\n",
    "\n",
    "def retry(\n",
    "    func,\n",
    "    response_model,\n",
    "    validation_context,\n",
    "    args,\n",
    "    kwargs,\n",
    "    max_retries,\n",
    "    strict: Optional[bool] = None,\n",
    "):\n",
    "    retries = 0\n",
    "    while retries <= max_retries:\n",
    "        try:\n",
    "            print(args)\n",
    "            print(kwargs)\n",
    "            response = func(*args, **kwargs)\n",
    "            print(response.model_dump())\n",
    "            stream = kwargs.get(\"stream\", False)\n",
    "            return process_response(\n",
    "                response,\n",
    "                response_model=response_model,\n",
    "                stream=stream,\n",
    "                validation_context=validation_context,\n",
    "                strict=strict,\n",
    "            )\n",
    "        except (ValidationError, json.JSONDecodeError) as e:\n",
    "            kwargs[\"messages\"].append(dump_message(response.choices[0].message))\n",
    "            kwargs[\"messages\"].append(\n",
    "                {\n",
    "                    \"role\": \"user\",\n",
    "                    \"content\": f\"Recall the function correctly, exceptions found\\n{e}\",\n",
    "                }\n",
    "            )\n",
    "            retries += 1\n",
    "            if retries > max_retries:\n",
    "                print(f\"Max retries reach, exception: {e}\")\n",
    "                raise e\n",
    "\n",
    "\n",
    "def modified_chat_completion(func: Callable) -> Callable:\n",
    "    @wraps(func)\n",
    "    def new_chat_completion(\n",
    "        response_model=None, validation_context=None, max_retries=1, *args, **kwargs\n",
    "    ):\n",
    "        response_model, new_kwargs = handle_response_model(\n",
    "            response_model=response_model, kwargs=kwargs\n",
    "        )\n",
    "        print(new_kwargs)\n",
    "        response = retry(\n",
    "            func=func,\n",
    "            response_model=response_model,\n",
    "            validation_context=validation_context,\n",
    "            max_retries=max_retries,\n",
    "            args=args,\n",
    "            kwargs=new_kwargs,\n",
    "        )\n",
    "        return response\n",
    "\n",
    "    wrapper_function = new_chat_completion\n",
    "    return wrapper_function\n",
    "\n",
    "\n",
    "def modify_chat_completion(client: openai.OpenAI):\n",
    "    client.chat.completions.create = modified_chat_completion(\n",
    "        client.chat.completions.create\n",
    "    )"
   ]
  },
  {
   "cell_type": "markdown",
   "metadata": {},
   "source": [
    "## Moment of truth\n"
   ]
  },
  {
   "cell_type": "code",
   "execution_count": 6,
   "metadata": {},
   "outputs": [],
   "source": [
    "client = openai.OpenAI(\n",
    "    api_key=config[\"ANYSCALE_API_KEY\"],\n",
    "    base_url=\"https://api.endpoints.anyscale.com/v1\",\n",
    ")"
   ]
  },
  {
   "cell_type": "code",
   "execution_count": 8,
   "metadata": {},
   "outputs": [],
   "source": [
    "modified_client = modify_chat_completion(client)"
   ]
  },
  {
   "cell_type": "code",
   "execution_count": 7,
   "metadata": {},
   "outputs": [],
   "source": [
    "class Extraction(BaseModel):\n",
    "    summary: str\n",
    "    hypothetical_questions: List[str] = Field(\n",
    "        default_factory=list,\n",
    "        description=\"Hypothetical questions that this document could answer\",\n",
    "    )\n",
    "    keywords: List[str] = Field(\n",
    "        default_factory=list, description=\"Keywords that this document is about\"\n",
    "    )"
   ]
  },
  {
   "cell_type": "code",
   "execution_count": 9,
   "metadata": {},
   "outputs": [
    {
     "data": {
      "text/plain": [
       "{'properties': {'summary': {'title': 'Summary', 'type': 'string'},\n",
       "  'hypothetical_questions': {'description': 'Hypothetical questions that this document could answer',\n",
       "   'items': {'type': 'string'},\n",
       "   'title': 'Hypothetical Questions',\n",
       "   'type': 'array'},\n",
       "  'keywords': {'description': 'Keywords that this document is about',\n",
       "   'items': {'type': 'string'},\n",
       "   'title': 'Keywords',\n",
       "   'type': 'array'}},\n",
       " 'required': ['summary'],\n",
       " 'title': 'Extraction',\n",
       " 'type': 'object'}"
      ]
     },
     "execution_count": 9,
     "metadata": {},
     "output_type": "execute_result"
    }
   ],
   "source": [
    "Extraction.model_json_schema()"
   ]
  },
  {
   "cell_type": "code",
   "execution_count": 7,
   "metadata": {},
   "outputs": [],
   "source": [
    "# Define the schema for the output\n",
    "class Result(BaseModel):\n",
    "    winner_team_name: str\n",
    "    loser_team_name: str\n",
    "    winner_score: int\n",
    "    loser_score: int\n",
    "\n",
    "\n",
    "chat_completion = client.chat.completions.create(\n",
    "    model=\"mistralai/Mistral-7B-Instruct-v0.1\",\n",
    "    response_format={\"type\": \"json_object\", \"schema\": Result.model_json_schema()},\n",
    "    messages=[\n",
    "        {\n",
    "            \"role\": \"system\",\n",
    "            \"content\": \"You are a helpful assistant designed to output JSON.\",\n",
    "        },\n",
    "        {\"role\": \"user\", \"content\": \"Who won the world series in 2020?\"},\n",
    "    ],\n",
    "    temperature=0.7,\n",
    ")"
   ]
  },
  {
   "cell_type": "code",
   "execution_count": 9,
   "metadata": {},
   "outputs": [
    {
     "name": "stdout",
     "output_type": "stream",
     "text": [
      " {\n",
      "\"winner_team_name\": \"Los Angeles Dodgers\",\n",
      "\"winner_score\": 3,\n",
      "\"loser_team_name\": \"Tampa Bay Rays\",\n",
      "\"loser_score\": 2\n",
      "}\n"
     ]
    }
   ],
   "source": [
    "print(chat_completion.choices[0].message.content)"
   ]
  },
  {
   "cell_type": "code",
   "execution_count": 12,
   "metadata": {},
   "outputs": [],
   "source": [
    "from datetime import date\n",
    "\n",
    "\n",
    "class MovieItem(Schema):\n",
    "    \"\"\"\n",
    "    class representing the entry of the highest grossing movie at the box office in any week of 2023 along the grossing amount and some remarks\n",
    "    \"\"\"\n",
    "\n",
    "    weekend_end_date: str = Field(\n",
    "        ...,\n",
    "        alias=\"Weekend end date\",\n",
    "        description=\"Stores the last date of the week in the year 2023\",\n",
    "    )\n",
    "    film: str = Field(..., alias=\"Film\", description=\"Name of the movie\")\n",
    "    gross: str = Field(\n",
    "        ..., alias=\"Gross\", description=\"Gross income of the movie in the given weekend\"\n",
    "    )\n",
    "    notes: str = Field(..., alias=\"Notes\", description=\"Some notes about the movie\")\n",
    "\n",
    "\n",
    "class BoxOffice(Schema):\n",
    "    \"\"\"Class representing the list of the highest grossing movies per weekend of 2023\"\"\"\n",
    "\n",
    "    items: List[MovieItem] = Field(\n",
    "        ..., description=\"List of the highest grossing movies each weekend of 2023\"\n",
    "    )"
   ]
  },
  {
   "cell_type": "code",
   "execution_count": 19,
   "metadata": {},
   "outputs": [],
   "source": [
    "def html_to_json_ai(\n",
    "    data: str, model: str, api_key: str, url: str | None = None\n",
    ") -> dict:\n",
    "    \"\"\"\n",
    "    Function to convert the given raw HTML string into structured JSON object following a predefined schema\n",
    "    by calling llm using api keys\n",
    "\n",
    "    Parameters:\n",
    "    - data (str):       the raw string containing the html input\n",
    "    - model (str):      the name of the model endpoint to be called\n",
    "    - api_key (str):    the api key used for calling the server endpoint\n",
    "    - url (str | None): the base url used to make the query\n",
    "                        default: None\n",
    "\n",
    "    Output:\n",
    "    json dumped from the BoxOffice object after parsing the model response in the needed format\n",
    "    \"\"\"\n",
    "    client = openai.OpenAI(api_key=api_key, base_url=url)\n",
    "    completion = client.chat.completions.create(\n",
    "        model=model,\n",
    "        messages=[\n",
    "            {\n",
    "                \"role\": \"system\",\n",
    "                \"content\": \"You are a world class algorithm to convert html to structured data\",\n",
    "            },\n",
    "            {\n",
    "                \"role\": \"user\",\n",
    "                \"content\": f\"Convert rows in given HTML to the specified JSON\",\n",
    "            },\n",
    "            {\"role\": \"user\", \"content\": f\"HTML input: ```{data}```\"},\n",
    "            # {\n",
    "            #     \"role\": \"user\",\n",
    "            #     \"content\": \"Tips: Make sure to pay attention to the attributes of the HTML tags, especialy the rowspan attributes\",\n",
    "            # },\n",
    "            # {\"role\": \"user\", \"content\": \"Tips: pay attention to the dates\"},\n",
    "        ],\n",
    "        temperature=0.2,\n",
    "        response_format={\n",
    "            \"type\": \"json_object\",\n",
    "            \"schema\": BoxOffice.model_json_schema(),\n",
    "        },\n",
    "    )\n",
    "    return completion"
   ]
  },
  {
   "cell_type": "code",
   "execution_count": 20,
   "metadata": {},
   "outputs": [],
   "source": [
    "import utils\n",
    "\n",
    "html_chunks = utils.html_chunker(table_rows, chunk_size=4)\n",
    "html_input = utils.html_to_str(html_chunks[0])\n",
    "output = html_to_json_ai(\n",
    "    html_input,\n",
    "    model=\"mistralai/Mistral-7B-Instruct-v0.1\",\n",
    "    api_key=config[\"ANYSCALE_API_KEY\"],\n",
    "    url=\"https://api.endpoints.anyscale.com/v1\",\n",
    ")"
   ]
  },
  {
   "cell_type": "code",
   "execution_count": 27,
   "metadata": {},
   "outputs": [
    {
     "name": "stdout",
     "output_type": "stream",
     "text": [
      "{\n",
      "    \"items\": [\n",
      "        {\n",
      "            \"Weekend end date\": \"January 8, 2023\",\n",
      "            \"Film\": \"Avatar: The Way of Water\",\n",
      "            \"Gross\": \"$45,838,986\",\n",
      "            \"Notes\": \"Black Panther: Wakanda Forever and Avatar: The Way of Water became the first two films to consecutively top the box office for four consecutive weekends each since The Hunger Games: Mockingjay \\u2013 Part 2 and Star Wars: The Force Awakens in 2015 and 2016.\"\n",
      "        },\n",
      "        {\n",
      "            \"Weekend end date\": \"January 15, 2023\",\n",
      "            \"Film\": \"Avatar: The Way of Water\",\n",
      "            \"Gross\": \"$32,824,684\",\n",
      "            \"Notes\": \"Black Panther: Wakanda Forever and Avatar: The Way of Water became the first two films to consecutively top the box office for five consecutive weekends each since Stakeout and Fatal Attraction in 1987.\"\n",
      "        },\n",
      "        {\n",
      "            \"Weekend end date\": \"January 22, 2023\",\n",
      "            \"Film\": \"Avatar: The Way of Water\",\n",
      "            \"Gross\": \"$20,133,106\",\n",
      "            \"Notes\": \"Avatar: The Way of Water became the first film since Avatar to top the box office for six consecutive weekends. It also became the first film since Spider-Man: No Way Home to top the box office in its sixth week of release, as well as for six total weekends. During the weekend, the film surpassed $2 billion at the global box office.\"\n",
      "        },\n",
      "        {\n",
      "            \"Weekend end date\": \"January 29, 2023\",\n",
      "            \"Film\": \"Avatar: The Way of Water\",\n",
      "            \"Gross\": \"$15,968,532\",\n",
      "            \"Notes\": \"Avatar: The Way of Water became the first film since Avatar to top the box office for seven consecutive weekends, as well as the first film since Spider-Man: No Way Home to top the box office in its seventh week of release.\"\n",
      "        }\n",
      "    ]\n",
      "}\n"
     ]
    }
   ],
   "source": [
    "print(json.dumps(json.loads(output.choices[0].message.content), indent=4))"
   ]
  },
  {
   "cell_type": "code",
   "execution_count": 46,
   "metadata": {},
   "outputs": [],
   "source": [
    "html_input = \"\\n\\n\".join(list(map(str, [table_rows[0]] + table_rows[10:20])))"
   ]
  },
  {
   "cell_type": "code",
   "execution_count": 29,
   "metadata": {},
   "outputs": [
    {
     "name": "stdout",
     "output_type": "stream",
     "text": [
      "{\n",
      "    \"items\": [\n",
      "        {\n",
      "            \"weekend_end_date\": \"January 8, 2023\",\n",
      "            \"film\": \"Avatar: The Way of Water\",\n",
      "            \"gross\": \"$45,838,986\",\n",
      "            \"notes\": \"Black Panther: Wakanda Forever and Avatar: The Way of Water became the first two films to consecutively top the box office for four consecutive weekends each since The Hunger Games: Mockingjay \\u2013 Part 2 and Star Wars: The Force Awakens in 2015 and 2016.\"\n",
      "        },\n",
      "        {\n",
      "            \"weekend_end_date\": \"January 15, 2023\",\n",
      "            \"film\": \"Avatar: The Way of Water\",\n",
      "            \"gross\": \"$32,824,684\",\n",
      "            \"notes\": \"Black Panther: Wakanda Forever and Avatar: The Way of Water became the first two films to consecutively top the box office for five consecutive weekends each since Stakeout and Fatal Attraction in 1987.\"\n",
      "        },\n",
      "        {\n",
      "            \"weekend_end_date\": \"January 22, 2023\",\n",
      "            \"film\": \"Avatar: The Way of Water\",\n",
      "            \"gross\": \"$20,133,106\",\n",
      "            \"notes\": \"Avatar: The Way of Water became the first film since Avatar to top the box office for six consecutive weekends. It also became the first film since Spider-Man: No Way Home to top the box office in its sixth week of release, as well as for six total weekends. During the weekend, the film surpassed $2 billion at the global box office.\"\n",
      "        },\n",
      "        {\n",
      "            \"weekend_end_date\": \"January 29, 2023\",\n",
      "            \"film\": \"Avatar: The Way of Water\",\n",
      "            \"gross\": \"$15,968,532\",\n",
      "            \"notes\": \"Avatar: The Way of Water became the first film since Avatar to top the box office for seven consecutive weekends, as well as the first film since Spider-Man: No Way Home to top the box office in its seventh week of release.\"\n",
      "        }\n",
      "    ]\n",
      "}\n"
     ]
    }
   ],
   "source": [
    "print(\n",
    "    json.dumps(\n",
    "        json.loads(BoxOffice.from_response(completion).model_dump_json()), indent=4\n",
    "    )\n",
    ")"
   ]
  },
  {
   "cell_type": "code",
   "execution_count": 48,
   "metadata": {},
   "outputs": [
    {
     "name": "stdout",
     "output_type": "stream",
     "text": [
      "{\n",
      "    \"items\": [\n",
      "        {\n",
      "            \"weekend_end_date\": \"March 12, 2023\",\n",
      "            \"film\": \"Scream VI\",\n",
      "            \"gross\": \"$44,447,270\",\n",
      "            \"notes\": \"\"\n",
      "        },\n",
      "        {\n",
      "            \"weekend_end_date\": \"March 19, 2023\",\n",
      "            \"film\": \"Shazam! Fury of the Gods\",\n",
      "            \"gross\": \"$30,111,158\",\n",
      "            \"notes\": \"\"\n",
      "        },\n",
      "        {\n",
      "            \"weekend_end_date\": \"March 26, 2023\",\n",
      "            \"film\": \"John Wick: Chapter 4\",\n",
      "            \"gross\": \"$73,817,950\",\n",
      "            \"notes\": \"\"\n",
      "        },\n",
      "        {\n",
      "            \"weekend_end_date\": \"April 2, 2023\",\n",
      "            \"film\": \"Dungeons & Dragons: Honor Among Thieves\",\n",
      "            \"gross\": \"$37,205,784\",\n",
      "            \"notes\": \"\"\n",
      "        },\n",
      "        {\n",
      "            \"weekend_end_date\": \"April 9, 2023\",\n",
      "            \"film\": \"The Super Mario Bros. Movie\",\n",
      "            \"gross\": \"$146,361,865\",\n",
      "            \"notes\": \"The Super Mario Bros. Movie broke Sonic the Hedgehog 2's record ($72.1 million) for the highest weekend debut for a video game adaptation as well as surpassing the former's lifetime gross ($190.9 million) to become the highest grossing video game adaptation of all time at the domestic box office. It also broke The Secret Life of Pets' record ($104.3 million) for the highest weekend debut for a non-sequel animated film. Its worldwide opening weekend ($377 million) broke Frozen II's record ($358.5 million) for the highest worldwide opening weekend for an animated film.\"\n",
      "        },\n",
      "        {\n",
      "            \"weekend_end_date\": \"April 16, 2023\",\n",
      "            \"film\": \"The Super Mario Bros. Movie\",\n",
      "            \"gross\": \"$92,347,190\",\n",
      "            \"notes\": \"The Super Mario Bros. Movie broke Frozen II's record ($85.9 million) for the highest second weekend gross for an animated film. It also surpassed Warcraft to become the highest-grossing video game adaptation of all time at the global box office.\"\n",
      "        },\n",
      "        {\n",
      "            \"weekend_end_date\": \"April 23, 2023\",\n",
      "            \"film\": \"The Super Mario Bros. Movie\",\n",
      "            \"gross\": \"$59,930,940\",\n",
      "            \"notes\": \"The Super Mario Bros. Movie broke Incredibles 2's record ($46.4 million) for the highest third weekend gross for an animated film.\"\n",
      "        },\n",
      "        {\n",
      "            \"weekend_end_date\": \"April 30, 2023\",\n",
      "            \"film\": \"The Super Mario Bros. Movie\",\n",
      "            \"gross\": \"$40,835,805\",\n",
      "            \"notes\": \"The Super Mario Bros. Movie broke Incredibles 2's record ($28.4 million) for the highest fourth weekend gross for an animated film. It also became the first film since Avatar: The Way of Water to top the box office for four consecutive weekends and the first animated film to pass $1 billion at the global box office since Frozen II.\"\n",
      "        },\n",
      "        {\n",
      "            \"weekend_end_date\": \"May 7, 2023\",\n",
      "            \"film\": \"Guardians of the Galaxy Vol. 3\",\n",
      "            \"gross\": \"$118,414,021\",\n",
      "            \"notes\": \"\"\n",
      "        },\n",
      "        {\n",
      "            \"weekend_end_date\": \"May 14, 2023\",\n",
      "            \"film\": \"Guardians of the Galaxy Vol. 3\",\n",
      "            \"gross\": \"$62,008,548\",\n",
      "            \"notes\": \"\"\n",
      "        }\n",
      "    ]\n",
      "}\n"
     ]
    }
   ],
   "source": [
    "print(\n",
    "    json.dumps(\n",
    "        json.loads(BoxOffice.from_response(completion).model_dump_json()), indent=4\n",
    "    )\n",
    ")"
   ]
  },
  {
   "cell_type": "code",
   "execution_count": 38,
   "metadata": {},
   "outputs": [
    {
     "name": "stdout",
     "output_type": "stream",
     "text": [
      "{\n",
      "  \"items\": [\n",
      "    {\n",
      "      \"Weekend end date\": \"January 8, 2023\",\n",
      "      \"Film\": \"Avatar: The Way of Water\",\n",
      "      \"Gross\": \"$45,838,986\",\n",
      "      \"Notes\": \"Black Panther: Wakanda Forever and Avatar: The Way of Water became the first two films to consecutively top the box office for four consecutive weekends each since The Hunger Games: Mockingjay – Part 2 and Star Wars: The Force Awakens in 2015 and 2016.\"\n",
      "    },\n",
      "    {\n",
      "      \"Weekend end date\": \"January 15, 2023\",\n",
      "      \"Film\": \"Avatar: The Way of Water\",\n",
      "      \"Gross\": \"$32,824,684\",\n",
      "      \"Notes\": \"Black Panther: Wakanda Forever and Avatar: The Way of Water became the first two films to consecutively top the box office for five consecutive weekends each since Stakeout and Fatal Attraction in 1987.\"\n",
      "    },\n",
      "    {\n",
      "      \"Weekend end date\": \"January 22, 2023\",\n",
      "      \"Film\": \"Avatar: The Way of Water\",\n",
      "      \"Gross\": \"$20,133,106\",\n",
      "      \"Notes\": \"Avatar: The Way of Water became the first film since Avatar to top the box office for six consecutive weekends. It also became the first film since Spider-Man: No Way Home to top the box office in its sixth week of release, as well as for six total weekends. During the weekend, the film surpassed $2 billion at the global box office.\"\n",
      "    },\n",
      "    {\n",
      "      \"Weekend end date\": \"January 29, 2023\",\n",
      "      \"Film\": \"Avatar: The Way of Water\",\n",
      "      \"Gross\": \"$15,968,532\",\n",
      "      \"Notes\": \"Avatar: The Way of Water became the first\n"
     ]
    }
   ],
   "source": [
    "print(completion.choices[0].message.function_call.arguments)"
   ]
  },
  {
   "cell_type": "code",
   "execution_count": 50,
   "metadata": {},
   "outputs": [],
   "source": [
    "import tiktoken\n",
    "\n",
    "\n",
    "def num_tokens_from_messages(messages, model=\"gpt-3.5-turbo-0613\"):\n",
    "    \"\"\"Return the number of tokens used by a list of messages.\"\"\"\n",
    "    try:\n",
    "        encoding = tiktoken.encoding_for_model(model)\n",
    "    except KeyError:\n",
    "        print(\"Warning: model not found. Using cl100k_base encoding.\")\n",
    "        encoding = tiktoken.get_encoding(\"cl100k_base\")\n",
    "    if model in {\n",
    "        \"gpt-3.5-turbo-0613\",\n",
    "        \"gpt-3.5-turbo-16k-0613\",\n",
    "        \"gpt-4-0314\",\n",
    "        \"gpt-4-32k-0314\",\n",
    "        \"gpt-4-0613\",\n",
    "        \"gpt-4-32k-0613\",\n",
    "    }:\n",
    "        tokens_per_message = 3\n",
    "        tokens_per_name = 1\n",
    "    elif model == \"gpt-3.5-turbo-0301\":\n",
    "        tokens_per_message = (\n",
    "            4  # every message follows <|start|>{role/name}\\n{content}<|end|>\\n\n",
    "        )\n",
    "        tokens_per_name = -1  # if there's a name, the role is omitted\n",
    "    elif \"gpt-3.5-turbo\" in model:\n",
    "        print(\n",
    "            \"Warning: gpt-3.5-turbo may update over time. Returning num tokens assuming gpt-3.5-turbo-0613.\"\n",
    "        )\n",
    "        return num_tokens_from_messages(messages, model=\"gpt-3.5-turbo-0613\")\n",
    "    elif \"gpt-4\" in model:\n",
    "        print(\n",
    "            \"Warning: gpt-4 may update over time. Returning num tokens assuming gpt-4-0613.\"\n",
    "        )\n",
    "        return num_tokens_from_messages(messages, model=\"gpt-4-0613\")\n",
    "    else:\n",
    "        raise NotImplementedError(\n",
    "            f\"\"\"num_tokens_from_messages() is not implemented for model {model}. See https://github.com/openai/openai-python/blob/main/chatml.md for information on how messages are converted to tokens.\"\"\"\n",
    "        )\n",
    "    num_tokens = 0\n",
    "    for message in messages:\n",
    "        num_tokens += tokens_per_message\n",
    "        for key, value in message.items():\n",
    "            num_tokens += len(encoding.encode(value))\n",
    "            if key == \"name\":\n",
    "                num_tokens += tokens_per_name\n",
    "    num_tokens += 3  # every reply is primed with <|start|>assistant<|message|>\n",
    "    return num_tokens"
   ]
  },
  {
   "cell_type": "code",
   "execution_count": 54,
   "metadata": {},
   "outputs": [
    {
     "name": "stdout",
     "output_type": "stream",
     "text": [
      "Warning: gpt-3.5-turbo may update over time. Returning num tokens assuming gpt-3.5-turbo-0613.\n",
      "922 prompt tokens counted by num_tokens_from_messages().\n",
      "Warning: gpt-3.5-turbo may update over time. Returning num tokens assuming gpt-3.5-turbo-0613.\n"
     ]
    },
    {
     "ename": "AttributeError",
     "evalue": "'str' object has no attribute 'items'",
     "output_type": "error",
     "traceback": [
      "\u001b[0;31m---------------------------------------------------------------------------\u001b[0m",
      "\u001b[0;31mAttributeError\u001b[0m                            Traceback (most recent call last)",
      "Cell \u001b[0;32mIn[54], line 21\u001b[0m\n\u001b[1;32m      2\u001b[0m example_messages \u001b[38;5;241m=\u001b[39m [\n\u001b[1;32m      3\u001b[0m     {\n\u001b[1;32m      4\u001b[0m         \u001b[38;5;124m\"\u001b[39m\u001b[38;5;124mrole\u001b[39m\u001b[38;5;124m\"\u001b[39m: \u001b[38;5;124m\"\u001b[39m\u001b[38;5;124msystem\u001b[39m\u001b[38;5;124m\"\u001b[39m,\n\u001b[0;32m   (...)\u001b[0m\n\u001b[1;32m     15\u001b[0m     },\n\u001b[1;32m     16\u001b[0m ]\n\u001b[1;32m     17\u001b[0m \u001b[38;5;28mprint\u001b[39m(\n\u001b[1;32m     18\u001b[0m     \u001b[38;5;124mf\u001b[39m\u001b[38;5;124m\"\u001b[39m\u001b[38;5;132;01m{\u001b[39;00mnum_tokens_from_messages(example_messages,\u001b[38;5;250m \u001b[39mmodel)\u001b[38;5;132;01m}\u001b[39;00m\u001b[38;5;124m prompt tokens counted by num_tokens_from_messages().\u001b[39m\u001b[38;5;124m\"\u001b[39m\n\u001b[1;32m     19\u001b[0m )\n\u001b[1;32m     20\u001b[0m \u001b[38;5;28mprint\u001b[39m(\n\u001b[0;32m---> 21\u001b[0m     \u001b[38;5;124mf\u001b[39m\u001b[38;5;124m\"\u001b[39m\u001b[38;5;132;01m{\u001b[39;00m\u001b[43mnum_tokens_from_messages\u001b[49m\u001b[43m(\u001b[49m\u001b[43mcompletion\u001b[49m\u001b[38;5;241;43m.\u001b[39;49m\u001b[43mchoices\u001b[49m\u001b[43m[\u001b[49m\u001b[38;5;241;43m0\u001b[39;49m\u001b[43m]\u001b[49m\u001b[38;5;241;43m.\u001b[39;49m\u001b[43mmessage\u001b[49m\u001b[38;5;241;43m.\u001b[39;49m\u001b[43mfunction_call\u001b[49m\u001b[38;5;241;43m.\u001b[39;49m\u001b[43marguments\u001b[49m\u001b[43m,\u001b[49m\u001b[38;5;250;43m \u001b[39;49m\u001b[43mmodel\u001b[49m\u001b[43m)\u001b[49m\u001b[38;5;132;01m}\u001b[39;00m\u001b[38;5;124m generated tokens\u001b[39m\u001b[38;5;124m\"\u001b[39m\n\u001b[1;32m     22\u001b[0m )\n",
      "Cell \u001b[0;32mIn[50], line 30\u001b[0m, in \u001b[0;36mnum_tokens_from_messages\u001b[0;34m(messages, model)\u001b[0m\n\u001b[1;32m     26\u001b[0m \u001b[38;5;28;01melif\u001b[39;00m \u001b[38;5;124m\"\u001b[39m\u001b[38;5;124mgpt-3.5-turbo\u001b[39m\u001b[38;5;124m\"\u001b[39m \u001b[38;5;129;01min\u001b[39;00m model:\n\u001b[1;32m     27\u001b[0m     \u001b[38;5;28mprint\u001b[39m(\n\u001b[1;32m     28\u001b[0m         \u001b[38;5;124m\"\u001b[39m\u001b[38;5;124mWarning: gpt-3.5-turbo may update over time. Returning num tokens assuming gpt-3.5-turbo-0613.\u001b[39m\u001b[38;5;124m\"\u001b[39m\n\u001b[1;32m     29\u001b[0m     )\n\u001b[0;32m---> 30\u001b[0m     \u001b[38;5;28;01mreturn\u001b[39;00m \u001b[43mnum_tokens_from_messages\u001b[49m\u001b[43m(\u001b[49m\u001b[43mmessages\u001b[49m\u001b[43m,\u001b[49m\u001b[43m \u001b[49m\u001b[43mmodel\u001b[49m\u001b[38;5;241;43m=\u001b[39;49m\u001b[38;5;124;43m\"\u001b[39;49m\u001b[38;5;124;43mgpt-3.5-turbo-0613\u001b[39;49m\u001b[38;5;124;43m\"\u001b[39;49m\u001b[43m)\u001b[49m\n\u001b[1;32m     31\u001b[0m \u001b[38;5;28;01melif\u001b[39;00m \u001b[38;5;124m\"\u001b[39m\u001b[38;5;124mgpt-4\u001b[39m\u001b[38;5;124m\"\u001b[39m \u001b[38;5;129;01min\u001b[39;00m model:\n\u001b[1;32m     32\u001b[0m     \u001b[38;5;28mprint\u001b[39m(\n\u001b[1;32m     33\u001b[0m         \u001b[38;5;124m\"\u001b[39m\u001b[38;5;124mWarning: gpt-4 may update over time. Returning num tokens assuming gpt-4-0613.\u001b[39m\u001b[38;5;124m\"\u001b[39m\n\u001b[1;32m     34\u001b[0m     )\n",
      "Cell \u001b[0;32mIn[50], line 43\u001b[0m, in \u001b[0;36mnum_tokens_from_messages\u001b[0;34m(messages, model)\u001b[0m\n\u001b[1;32m     41\u001b[0m \u001b[38;5;28;01mfor\u001b[39;00m message \u001b[38;5;129;01min\u001b[39;00m messages:\n\u001b[1;32m     42\u001b[0m     num_tokens \u001b[38;5;241m+\u001b[39m\u001b[38;5;241m=\u001b[39m tokens_per_message\n\u001b[0;32m---> 43\u001b[0m     \u001b[38;5;28;01mfor\u001b[39;00m key, value \u001b[38;5;129;01min\u001b[39;00m \u001b[43mmessage\u001b[49m\u001b[38;5;241;43m.\u001b[39;49m\u001b[43mitems\u001b[49m():\n\u001b[1;32m     44\u001b[0m         num_tokens \u001b[38;5;241m+\u001b[39m\u001b[38;5;241m=\u001b[39m \u001b[38;5;28mlen\u001b[39m(encoding\u001b[38;5;241m.\u001b[39mencode(value))\n\u001b[1;32m     45\u001b[0m         \u001b[38;5;28;01mif\u001b[39;00m key \u001b[38;5;241m==\u001b[39m \u001b[38;5;124m\"\u001b[39m\u001b[38;5;124mname\u001b[39m\u001b[38;5;124m\"\u001b[39m:\n",
      "\u001b[0;31mAttributeError\u001b[0m: 'str' object has no attribute 'items'"
     ]
    }
   ],
   "source": [
    "model = \"gpt-3.5-turbo\"\n",
    "example_messages = [\n",
    "    {\n",
    "        \"role\": \"system\",\n",
    "        \"content\": \"You are a world class algorithm to convert html to structured data\",\n",
    "    },\n",
    "    {\n",
    "        \"role\": \"user\",\n",
    "        \"content\": f\"Convert the following HTML string to structured data as per given format\",\n",
    "    },\n",
    "    {\"role\": \"user\", \"content\": f\"HTML input: ```{html_input}```\"},\n",
    "    {\n",
    "        \"role\": \"user\",\n",
    "        \"content\": \"Tips: Make sure to pay attention to the attributes of the HTML tags, especialy the rowspan attributes\",\n",
    "    },\n",
    "]\n",
    "print(\n",
    "    f\"{num_tokens_from_messages(example_messages, model)} prompt tokens counted by num_tokens_from_messages().\"\n",
    ")\n",
    "print(\n",
    "    f\"{num_tokens_from_messages(completion.choices[0].message.function_call.arguments, model)} generated tokens\"\n",
    ")"
   ]
  },
  {
   "cell_type": "code",
   "execution_count": 61,
   "metadata": {},
   "outputs": [
    {
     "name": "stdout",
     "output_type": "stream",
     "text": [
      "Input charge = $0.001012 | Output charge = $0.001572 | Total charge = $0.0025840000000000004\n"
     ]
    }
   ],
   "source": [
    "input_tokens = completion.usage.prompt_tokens\n",
    "output_tokens = completion.usage.completion_tokens\n",
    "\n",
    "input_charge = (input_tokens / 1000) * 0.0010\n",
    "output_charge = (output_tokens / 1000) * 0.0020\n",
    "\n",
    "print(\n",
    "    f\"Input charge = ${input_charge} | Output charge = ${output_charge} | Total charge = ${input_charge + output_charge}\"\n",
    ")"
   ]
  },
  {
   "cell_type": "code",
   "execution_count": 69,
   "metadata": {},
   "outputs": [],
   "source": [
    "def html_chunker(rows: List, chunk_size: int = 10):\n",
    "    header_row = [rows[0]]\n",
    "    chunks = [\n",
    "        header_row + rows[i : i + chunk_size] for i in range(1, len(rows), chunk_size)\n",
    "    ]\n",
    "\n",
    "    return chunks\n",
    "\n",
    "\n",
    "def html_to_str(chunk):\n",
    "    return \"\\n\\n\".join(list(map(str, chunk)))"
   ]
  },
  {
   "cell_type": "code",
   "execution_count": null,
   "metadata": {},
   "outputs": [],
   "source": []
  }
 ],
 "metadata": {
  "kernelspec": {
   "display_name": "longshotai",
   "language": "python",
   "name": "python3"
  },
  "language_info": {
   "codemirror_mode": {
    "name": "ipython",
    "version": 3
   },
   "file_extension": ".py",
   "mimetype": "text/x-python",
   "name": "python",
   "nbconvert_exporter": "python",
   "pygments_lexer": "ipython3",
   "version": "3.11.6"
  }
 },
 "nbformat": 4,
 "nbformat_minor": 2
}
