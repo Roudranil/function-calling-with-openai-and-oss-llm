{
 "cells": [
  {
   "cell_type": "markdown",
   "metadata": {},
   "source": [
    "# Imports\n"
   ]
  },
  {
   "cell_type": "code",
   "execution_count": 2,
   "metadata": {},
   "outputs": [],
   "source": [
    "from scraper import Scraper\n",
    "from schema import Schema\n",
    "import utils\n",
    "from tqdm import tqdm\n",
    "from dotenv import dotenv_values\n",
    "\n",
    "config = dotenv_values(\"../.env\")"
   ]
  },
  {
   "cell_type": "code",
   "execution_count": 3,
   "metadata": {},
   "outputs": [],
   "source": [
    "from pydantic import BaseModel, Field, field_validator\n",
    "from typing import List\n",
    "\n",
    "import openai\n",
    "import json\n",
    "import time\n",
    "from datetime import datetime"
   ]
  },
  {
   "cell_type": "code",
   "execution_count": 4,
   "metadata": {},
   "outputs": [],
   "source": [
    "scraper = Scraper(config[\"URL\"])\n",
    "table_rows = scraper.get_table()"
   ]
  },
  {
   "cell_type": "markdown",
   "metadata": {},
   "source": [
    "# Pydantic schemas\n"
   ]
  },
  {
   "cell_type": "code",
   "execution_count": 5,
   "metadata": {},
   "outputs": [],
   "source": [
    "class MovieItem(Schema):\n",
    "    \"\"\"\n",
    "    class representing the entry of the highest grossing movie at the box office in any week of 2023 along the grossing amount and some remarks\n",
    "    \"\"\"\n",
    "\n",
    "    weekend_end_date: str = Field(\n",
    "        ...,\n",
    "        alias=\"Weekend end date\",\n",
    "        description=\"Stores the last date of the week in the year 2023\",\n",
    "    )\n",
    "    film: str = Field(..., alias=\"Film\", description=\"Name of the movie\")\n",
    "    gross: str = Field(\n",
    "        ..., alias=\"Gross\", description=\"Gross income of the movie in the given weekend\"\n",
    "    )\n",
    "    notes: str = Field(..., alias=\"Notes\", description=\"Some notes about the movie\")\n",
    "\n",
    "\n",
    "class BoxOffice(Schema):\n",
    "    \"\"\"Class representing the list of the highest grossing movies per weekend of 2023\"\"\"\n",
    "\n",
    "    items: List[MovieItem] = Field(\n",
    "        ..., description=\"List of the highest grossing movies each weekend of 2023\"\n",
    "    )"
   ]
  },
  {
   "cell_type": "markdown",
   "metadata": {},
   "source": [
    "# Query OpenAI API\n"
   ]
  },
  {
   "cell_type": "code",
   "execution_count": 14,
   "metadata": {},
   "outputs": [],
   "source": [
    "def html_to_json_ai(\n",
    "    data: str, model: str, api_key: str, url: str | None = None\n",
    ") -> dict:\n",
    "    \"\"\"\n",
    "    Function to convert the given raw HTML string into structured JSON object following a predefined schema\n",
    "    by calling llm using api keys\n",
    "\n",
    "    Parameters:\n",
    "    - data (str):       the raw string containing the html input\n",
    "    - model (str):      the name of the model endpoint to be called\n",
    "    - api_key (str):    the api key used for calling the server endpoint\n",
    "    - url (str | None): the base url used to make the query\n",
    "                        default: None\n",
    "\n",
    "    Output:\n",
    "    json dumped from the BoxOffice object after parsing the model response in the needed format\n",
    "    \"\"\"\n",
    "    client = openai.OpenAI(api_key=api_key, base_url=url)\n",
    "    completion = client.chat.completions.create(\n",
    "        model=model,\n",
    "        messages=[\n",
    "            {\n",
    "                \"role\": \"system\",\n",
    "                \"content\": \"You are a world class algorithm to convert html to structured data\",\n",
    "            },\n",
    "            {\n",
    "                \"role\": \"user\",\n",
    "                \"content\": f\"Convert the following HTML string to structured data as per given format\",\n",
    "            },\n",
    "            {\"role\": \"user\", \"content\": f\"HTML input: ```{data}```\"},\n",
    "            {\n",
    "                \"role\": \"user\",\n",
    "                \"content\": \"Tips: Make sure to pay attention to the attributes of the HTML tags, especialy the rowspan attributes\",\n",
    "            },\n",
    "        ],\n",
    "        temperature=0.2,\n",
    "        functions=[BoxOffice.custom_schema],\n",
    "        function_call={\"name\": BoxOffice.custom_schema[\"name\"]},\n",
    "    )\n",
    "    input_tokens = completion.usage.prompt_tokens\n",
    "    output_tokens = completion.usage.completion_tokens\n",
    "\n",
    "    input_charge = (input_tokens / 1000) * 0.0010\n",
    "    output_charge = (output_tokens / 1000) * 0.0020\n",
    "\n",
    "    print(\n",
    "        f\"Token counts:\\nInput tokens = {input_tokens}\\nOutput tokens = {output_tokens}\\nTotal tokens = {input_tokens + output_tokens}\\n\"\n",
    "    )\n",
    "    # Charges as per OpenAI pricing\n",
    "    print(\n",
    "        f\"Charge:\\nInput charge = ${input_charge}\\nOutput charge = ${output_charge}\\nTotal charge ${input_charge + output_charge}\"\n",
    "    )\n",
    "    return BoxOffice.from_response(completion).model_dump_json()"
   ]
  },
  {
   "cell_type": "markdown",
   "metadata": {},
   "source": [
    "# Results with `GPT-3.5-turbo`\n"
   ]
  },
  {
   "cell_type": "code",
   "execution_count": 15,
   "metadata": {},
   "outputs": [
    {
     "name": "stdout",
     "output_type": "stream",
     "text": [
      "Token counts:\n",
      "Input tokens = 637\n",
      "Output tokens = 426\n",
      "Total tokens = 1063\n",
      "\n",
      "Charge:\n",
      "Input charge = $0.000637\n",
      "Output charge = $0.000852\n",
      "Total charge $0.0014889999999999999\n"
     ]
    }
   ],
   "source": [
    "html_chunks = utils.html_chunker(table_rows, chunk_size=4)\n",
    "html_input = utils.html_to_str(html_chunks[0])\n",
    "output = html_to_json_ai(\n",
    "    html_input, model=\"gpt-3.5-turbo\", api_key=config[\"OPENAI_API_KEY\"]\n",
    ")"
   ]
  },
  {
   "cell_type": "code",
   "execution_count": 16,
   "metadata": {},
   "outputs": [
    {
     "name": "stdout",
     "output_type": "stream",
     "text": [
      "{\n",
      "    \"items\": [\n",
      "        {\n",
      "            \"weekend_end_date\": \"January 8, 2023\",\n",
      "            \"film\": \"Avatar: The Way of Water\",\n",
      "            \"gross\": \"$45,838,986\",\n",
      "            \"notes\": \"Black Panther: Wakanda Forever and Avatar: The Way of Water became the first two films to consecutively top the box office for four consecutive weekends each since The Hunger Games: Mockingjay \\u2013 Part 2 and Star Wars: The Force Awakens in 2015 and 2016.\"\n",
      "        },\n",
      "        {\n",
      "            \"weekend_end_date\": \"January 15, 2023\",\n",
      "            \"film\": \"Avatar: The Way of Water\",\n",
      "            \"gross\": \"$32,824,684\",\n",
      "            \"notes\": \"Black Panther: Wakanda Forever and Avatar: The Way of Water became the first two films to consecutively top the box office for five consecutive weekends each since Stakeout and Fatal Attraction in 1987.\"\n",
      "        },\n",
      "        {\n",
      "            \"weekend_end_date\": \"January 22, 2023\",\n",
      "            \"film\": \"Avatar: The Way of Water\",\n",
      "            \"gross\": \"$20,133,106\",\n",
      "            \"notes\": \"Avatar: The Way of Water became the first film since Avatar to top the box office for six consecutive weekends. It also became the first film since Spider-Man: No Way Home to top the box office in its sixth week of release, as well as for six total weekends. During the weekend, the film surpassed $2 billion at the global box office.\"\n",
      "        },\n",
      "        {\n",
      "            \"weekend_end_date\": \"January 29, 2023\",\n",
      "            \"film\": \"Avatar: The Way of Water\",\n",
      "            \"gross\": \"$15,968,532\",\n",
      "            \"notes\": \"Avatar: The Way of Water became the first film since Avatar to top the box office for seven consecutive weekends, as well as the first film since Spider-Man: No Way Home to top the box office in its seventh week of release.\"\n",
      "        }\n",
      "    ]\n",
      "}\n"
     ]
    }
   ],
   "source": [
    "print(json.dumps(json.loads(output), indent=4))"
   ]
  },
  {
   "cell_type": "markdown",
   "metadata": {},
   "source": [
    "## Total output\n"
   ]
  },
  {
   "cell_type": "code",
   "execution_count": 6,
   "metadata": {},
   "outputs": [
    {
     "name": "stdout",
     "output_type": "stream",
     "text": [
      "\n",
      "Chunk 0\n",
      "Token counts:\n",
      "Input tokens = 997\n",
      "Output tokens = 769\n",
      "Total tokens = 1766\n",
      "\n",
      "Charge:\n",
      "Input charge = $0.000997\n",
      "Output charge = $0.001538\n",
      "Total charge $0.002535\n",
      "\n",
      "Chunk 1\n",
      "Token counts:\n",
      "Input tokens = 1012\n",
      "Output tokens = 785\n",
      "Total tokens = 1797\n",
      "\n",
      "Charge:\n",
      "Input charge = $0.001012\n",
      "Output charge = $0.00157\n",
      "Total charge $0.002582\n",
      "\n",
      "Chunk 2\n",
      "Token counts:\n",
      "Input tokens = 935\n",
      "Output tokens = 670\n",
      "Total tokens = 1605\n",
      "\n",
      "Charge:\n",
      "Input charge = $0.0009350000000000001\n",
      "Output charge = $0.00134\n",
      "Total charge $0.002275\n",
      "\n",
      "Chunk 3\n",
      "Token counts:\n",
      "Input tokens = 804\n",
      "Output tokens = 558\n",
      "Total tokens = 1362\n",
      "\n",
      "Charge:\n",
      "Input charge = $0.000804\n",
      "Output charge = $0.001116\n",
      "Total charge $0.00192\n",
      "\n",
      "Chunk 4\n",
      "Token counts:\n",
      "Input tokens = 887\n",
      "Output tokens = 655\n",
      "Total tokens = 1542\n",
      "\n",
      "Charge:\n",
      "Input charge = $0.000887\n",
      "Output charge = $0.0013100000000000002\n",
      "Total charge $0.002197\n"
     ]
    }
   ],
   "source": [
    "html_chunks = utils.html_chunker(table_rows)\n",
    "for i, chunk in enumerate(html_chunks):\n",
    "    html_input = utils.html_to_str(chunk)\n",
    "    print(f\"\\nChunk {i}\")\n",
    "    output = html_to_json_ai(\n",
    "        html_input, model=\"gpt-3.5-turbo\", api_key=config[\"OPENAI_API_KEY\"]\n",
    "    )\n",
    "    utils.save_json(output, filepath=f\"../chunk-{i}.json\")\n",
    "    time.sleep(30)"
   ]
  },
  {
   "cell_type": "code",
   "execution_count": 8,
   "metadata": {},
   "outputs": [
    {
     "name": "stderr",
     "output_type": "stream",
     "text": [
      "100%|██████████| 5/5 [00:00<00:00, 592.82it/s]\n"
     ]
    }
   ],
   "source": [
    "chunk_filepaths = [f\"../chunk-{i}.json\" for i in range(5)]\n",
    "combined_output = {\"items\": []}\n",
    "for fp in tqdm(chunk_filepaths):\n",
    "    f = open(fp, \"r\")\n",
    "    chunk_output = json.load(f)\n",
    "    combined_output[\"items\"].extend(chunk_output[\"items\"])"
   ]
  },
  {
   "cell_type": "code",
   "execution_count": 10,
   "metadata": {},
   "outputs": [],
   "source": [
    "with open(\"../combined-output.json\", \"w\") as f:\n",
    "    json.dump(combined_output, f, indent=4)"
   ]
  },
  {
   "cell_type": "markdown",
   "metadata": {},
   "source": [
    "## Querying by date\n"
   ]
  },
  {
   "cell_type": "markdown",
   "metadata": {},
   "source": [
    "Say for example i want only those movies that were the highest grossing in November\n"
   ]
  },
  {
   "cell_type": "code",
   "execution_count": 28,
   "metadata": {},
   "outputs": [],
   "source": [
    "def html_to_json_ai(\n",
    "    data: str, model: str, api_key: str, url: str | None = None\n",
    ") -> dict:\n",
    "    \"\"\"\n",
    "    Function to convert the given raw HTML string into structured JSON object following a predefined schema\n",
    "    by calling llm using api keys\n",
    "\n",
    "    Parameters:\n",
    "    - data (str):       the raw string containing the html input\n",
    "    - model (str):      the name of the model endpoint to be called\n",
    "    - api_key (str):    the api key used for calling the server endpoint\n",
    "    - url (str | None): the base url used to make the query\n",
    "                        default: None\n",
    "\n",
    "    Output:\n",
    "    json dumped from the BoxOffice object after parsing the model response in the needed format\n",
    "    \"\"\"\n",
    "    client = openai.OpenAI(api_key=api_key, base_url=url)\n",
    "    completion = client.chat.completions.create(\n",
    "        model=model,\n",
    "        messages=[\n",
    "            {\n",
    "                \"role\": \"system\",\n",
    "                \"content\": \"You are a world class algorithm to convert html to structured data\",\n",
    "            },\n",
    "            {\n",
    "                \"role\": \"user\",\n",
    "                \"content\": f\"Convert rows in given HTML corresponding to only the MONTH of NOVEMBER to the specified JSON\",\n",
    "            },\n",
    "            {\"role\": \"user\", \"content\": f\"HTML input: ```{data}```\"},\n",
    "            # {\n",
    "            #     \"role\": \"user\",\n",
    "            #     \"content\": \"Tips: Make sure to pay attention to the attributes of the HTML tags, especialy the rowspan attributes\",\n",
    "            # },\n",
    "            # {\"role\": \"user\", \"content\": \"Tips: pay attention to the dates\"},\n",
    "        ],\n",
    "        temperature=0.2,\n",
    "        functions=[BoxOffice.custom_schema],\n",
    "        function_call={\"name\": BoxOffice.custom_schema[\"name\"]},\n",
    "    )\n",
    "    input_tokens = completion.usage.prompt_tokens\n",
    "    output_tokens = completion.usage.completion_tokens\n",
    "\n",
    "    input_charge = (input_tokens / 1000) * 0.0010\n",
    "    output_charge = (output_tokens / 1000) * 0.0020\n",
    "\n",
    "    print(\n",
    "        f\"Token counts:\\nInput tokens = {input_tokens}\\nOutput tokens = {output_tokens}\\nTotal tokens = {input_tokens + output_tokens}\\n\"\n",
    "    )\n",
    "    # Charges as per OpenAI pricing\n",
    "    print(\n",
    "        f\"Charge:\\nInput charge = ${input_charge}\\nOutput charge = ${output_charge}\\nTotal charge ${input_charge + output_charge}\"\n",
    "    )\n",
    "    return BoxOffice.from_response(completion).model_dump_json()"
   ]
  },
  {
   "cell_type": "code",
   "execution_count": 29,
   "metadata": {},
   "outputs": [],
   "source": [
    "html_input = utils.html_to_str(table_rows)"
   ]
  },
  {
   "cell_type": "code",
   "execution_count": 30,
   "metadata": {},
   "outputs": [
    {
     "name": "stdout",
     "output_type": "stream",
     "text": [
      "Token counts:\n",
      "Input tokens = 3697\n",
      "Output tokens = 215\n",
      "Total tokens = 3912\n",
      "\n",
      "Charge:\n",
      "Input charge = $0.003697\n",
      "Output charge = $0.00043\n",
      "Total charge $0.0041270000000000005\n"
     ]
    }
   ],
   "source": [
    "output = html_to_json_ai(\n",
    "    html_input, model=\"gpt-3.5-turbo\", api_key=config[\"OPENAI_API_KEY\"]\n",
    ")"
   ]
  },
  {
   "cell_type": "markdown",
   "metadata": {},
   "source": [
    "We are dangerously close to the maximum token length of 4096\n"
   ]
  },
  {
   "cell_type": "code",
   "execution_count": 31,
   "metadata": {},
   "outputs": [
    {
     "name": "stdout",
     "output_type": "stream",
     "text": [
      "{\n",
      "    \"items\": [\n",
      "        {\n",
      "            \"weekend_end_date\": \"November 5, 2023\",\n",
      "            \"film\": \"Five Nights at Freddy's\",\n",
      "            \"gross\": \"$19,001,870\",\n",
      "            \"notes\": \"\"\n",
      "        },\n",
      "        {\n",
      "            \"weekend_end_date\": \"November 12, 2023\",\n",
      "            \"film\": \"The Marvels\",\n",
      "            \"gross\": \"$46,110,859\",\n",
      "            \"notes\": \"\"\n",
      "        },\n",
      "        {\n",
      "            \"weekend_end_date\": \"November 19, 2023\",\n",
      "            \"film\": \"The Hunger Games: The Ballad of Songbirds & Snakes\",\n",
      "            \"gross\": \"$44,607,143\",\n",
      "            \"notes\": \"\"\n",
      "        },\n",
      "        {\n",
      "            \"weekend_end_date\": \"November 26, 2023\",\n",
      "            \"film\": \"The Hunger Games: The Ballad of Songbirds & Snakes\",\n",
      "            \"gross\": \"$29,042,517\",\n",
      "            \"notes\": \"\"\n",
      "        }\n",
      "    ]\n",
      "}\n"
     ]
    }
   ],
   "source": [
    "print(json.dumps(json.loads(output), indent=4))"
   ]
  },
  {
   "cell_type": "markdown",
   "metadata": {},
   "source": [
    "# Trying with `mistral` and `llama` from [Anyscale](https://www.anyscale.com/)\n"
   ]
  },
  {
   "cell_type": "code",
   "execution_count": 17,
   "metadata": {},
   "outputs": [],
   "source": [
    "def html_to_json_ai(\n",
    "    data: str, model: str, api_key: str, url: str | None = None\n",
    ") -> dict:\n",
    "    \"\"\"\n",
    "    Function to convert the given raw HTML string into structured JSON object following a predefined schema\n",
    "    by calling llm using api keys\n",
    "\n",
    "    Parameters:\n",
    "    - data (str):       the raw string containing the html input\n",
    "    - model (str):      the name of the model endpoint to be called\n",
    "    - api_key (str):    the api key used for calling the server endpoint\n",
    "    - url (str | None): the base url used to make the query\n",
    "                        default: None\n",
    "\n",
    "    Output:\n",
    "    json dumped from the BoxOffice object after parsing the model response in the needed format\n",
    "    \"\"\"\n",
    "    client = openai.OpenAI(api_key=api_key, base_url=url)\n",
    "    completion = client.chat.completions.create(\n",
    "        model=model,\n",
    "        messages=[\n",
    "            {\n",
    "                \"role\": \"system\",\n",
    "                \"content\": \"You are a world class algorithm to convert html to structured data\",\n",
    "            },\n",
    "            {\n",
    "                \"role\": \"user\",\n",
    "                \"content\": f\"Convert rows in given HTML to the specified JSON for only the month of February.\",\n",
    "            },\n",
    "            {\"role\": \"user\", \"content\": f\"HTML input: ```{data}```\"},\n",
    "            # {\n",
    "            #     \"role\": \"user\",\n",
    "            #     \"content\": \"Tips: Make sure to pay attention to the attributes of the HTML tags, especialy the rowspan attributes\",\n",
    "            # },\n",
    "            # {\"role\": \"user\", \"content\": \"Tips: pay attention to the dates\"},\n",
    "        ],\n",
    "        temperature=0.2,\n",
    "        response_format={\n",
    "            \"type\": \"json_object\",\n",
    "            \"schema\": BoxOffice.model_json_schema(),\n",
    "        },\n",
    "    )\n",
    "    try:\n",
    "        return json.loads(completion.choices[0].message.content)\n",
    "    except:\n",
    "        print(completion.choices[0].message.content)"
   ]
  },
  {
   "cell_type": "markdown",
   "metadata": {},
   "source": [
    "First with mistral for a subset of rows\n"
   ]
  },
  {
   "cell_type": "code",
   "execution_count": 9,
   "metadata": {},
   "outputs": [
    {
     "name": "stdout",
     "output_type": "stream",
     "text": [
      "{\n",
      "    \"items\": [\n",
      "        {\n",
      "            \"Weekend end date\": \"January 8, 2023\",\n",
      "            \"Film\": \"Avatar: The Way of Water\",\n",
      "            \"Gross\": \"$45,838,986\",\n",
      "            \"Notes\": \"Black Panther: Wakanda Forever and Avatar: The Way of Water became the first two films to consecutively top the box office for four consecutive weekends each since The Hunger Games: Mockingjay \\u2013 Part 2 and Star Wars: The Force Awakens in 2015 and 2016.\"\n",
      "        },\n",
      "        {\n",
      "            \"Weekend end date\": \"January 15, 2023\",\n",
      "            \"Film\": \"Avatar: The Way of Water\",\n",
      "            \"Gross\": \"$32,824,684\",\n",
      "            \"Notes\": \"Black Panther: Wakanda Forever and Avatar: The Way of Water became the first two films to consecutively top the box office for five consecutive weekends each since Stakeout and Fatal Attraction in 1987.\"\n",
      "        },\n",
      "        {\n",
      "            \"Weekend end date\": \"January 22, 2023\",\n",
      "            \"Film\": \"Avatar: The Way of Water\",\n",
      "            \"Gross\": \"$20,133,106\",\n",
      "            \"Notes\": \"Avatar: The Way of Water became the first film since Avatar to top the box office for six consecutive weekends. It also became the first film since Spider-Man: No Way Home to top the box office in its sixth week of release, as well as for six total weekends. During the weekend, the film surpassed $2 billion at the global box office.\"\n",
      "        },\n",
      "        {\n",
      "            \"Weekend end date\": \"January 29, 2023\",\n",
      "            \"Film\": \"Avatar: The Way of Water\",\n",
      "            \"Gross\": \"$15,968,532\",\n",
      "            \"Notes\": \"Avatar: The Way of Water became the first film since Avatar to top the box office for seven consecutive weekends, as well as the first film since Spider-Man: No Way Home to top the box office in its seventh week of release.\"\n",
      "        }\n",
      "    ]\n",
      "}\n"
     ]
    }
   ],
   "source": [
    "html_chunks = utils.html_chunker(table_rows, chunk_size=4)\n",
    "html_input = utils.html_to_str(html_chunks[0])\n",
    "output = html_to_json_ai(\n",
    "    html_input,\n",
    "    model=\"mistralai/Mistral-7B-Instruct-v0.1\",\n",
    "    api_key=config[\"ANYSCALE_API_KEY\"],\n",
    "    url=\"https://api.endpoints.anyscale.com/v1\",\n",
    ")\n",
    "print(json.dumps(output, indent=4))"
   ]
  },
  {
   "cell_type": "markdown",
   "metadata": {},
   "source": [
    "Then with llama to demo querying by date\n"
   ]
  },
  {
   "cell_type": "code",
   "execution_count": 18,
   "metadata": {},
   "outputs": [
    {
     "name": "stdout",
     "output_type": "stream",
     "text": [
      "  Sure! Here is the JSON output for only the month of February:\n",
      "```json\n",
      "[\n",
      "  {\n",
      "    \"week\": \"February 5\",\n",
      "    \"gross\": \"14,127,170\",\n",
      "    \"film\": \"Knock at the Cabin\"\n",
      "  },\n",
      "  {\n",
      "    \"week\": \"February 12\",\n",
      "    \"gross\": \"8,305,317\",\n",
      "    \"film\": \"Magic Mike's Last Dance\"\n",
      "  },\n",
      "  {\n",
      "    \"week\": \"February 19\",\n",
      "    \"gross\": \"106,109,650\",\n",
      "    \"film\": \"Ant-Man and the Wasp: Quantumania\"\n",
      "  },\n",
      "  {\n",
      "    \"week\": \"February 26\",\n",
      "    \"gross\": \"31,964,803\",\n",
      "    \"film\": \"Ant-Man and the Wasp: Quantumania\"\n",
      "  }\n",
      "]\n",
      "```\n",
      "Note that I have only included the rows that correspond to the month of February. The other rows have been omitted.\n",
      "null\n"
     ]
    }
   ],
   "source": [
    "html_chunks = utils.html_chunker(table_rows, chunk_size=20)\n",
    "html_input = utils.html_to_str(html_chunks[0])\n",
    "output = html_to_json_ai(\n",
    "    html_input,\n",
    "    model=\"meta-llama/Llama-2-13b-chat-hf\",\n",
    "    api_key=config[\"ANYSCALE_API_KEY\"],\n",
    "    url=\"https://api.endpoints.anyscale.com/v1\",\n",
    ")\n",
    "print(json.dumps(output, indent=4))"
   ]
  },
  {
   "cell_type": "markdown",
   "metadata": {},
   "source": [
    "**Note**: llama tends to return additional text along with the actual json output, and it adjusts the keys in the json. Mistral gives the exact json as output\n"
   ]
  },
  {
   "cell_type": "markdown",
   "metadata": {},
   "source": [
    "# Trying with `mistral` and `llama` with prompts\n"
   ]
  },
  {
   "cell_type": "code",
   "execution_count": 24,
   "metadata": {},
   "outputs": [],
   "source": [
    "json_format = \"\"\"```json\n",
    "{\n",
    "    \"items\": [\n",
    "        {\n",
    "            \"weekend_end_date\": \"\" // Stores the last date of the week in the year 2023\n",
    "            \"film\": \"\", // Name of the movie\n",
    "            \"gross\": \"\", // Gross income of the movie in the given weekend\n",
    "            \"notes\": \"\", // Some notes about the movie\n",
    "        }.\n",
    "        // repeat each item of the row as above format\n",
    "    ]\n",
    "}\n",
    "```\n",
    "\"\"\""
   ]
  },
  {
   "cell_type": "code",
   "execution_count": 38,
   "metadata": {},
   "outputs": [],
   "source": [
    "def html_to_json_ai(\n",
    "    data: str, model: str, json_format: str, api_key: str, url: str | None = None\n",
    ") -> dict:\n",
    "    \"\"\"\n",
    "    Function to convert the given raw HTML string into structured JSON object following a predefined schema\n",
    "    by calling llm using api keys\n",
    "\n",
    "    Parameters:\n",
    "    - data (str):       the raw string containing the html input\n",
    "    - model (str):      the name of the model endpoint to be called\n",
    "    - api_key (str):    the api key used for calling the server endpoint\n",
    "    - url (str | None): the base url used to make the query\n",
    "                        default: None\n",
    "\n",
    "    Output:\n",
    "    json dumped from the BoxOffice object after parsing the model response in the needed format\n",
    "    \"\"\"\n",
    "    client = openai.OpenAI(api_key=api_key, base_url=url)\n",
    "    completion = client.chat.completions.create(\n",
    "        model=model,\n",
    "        messages=[\n",
    "            {\n",
    "                \"role\": \"system\",\n",
    "                \"content\": \"You are a world class algorithm to convert html to json as per specified format\",\n",
    "            },\n",
    "            {\n",
    "                \"role\": \"user\",\n",
    "                \"content\": f\"Convert rows in given HTML to the specified JSON\",\n",
    "            },\n",
    "            {\"role\": \"user\", \"content\": f\"HTML input: ```{data}```\"},\n",
    "            {\"role\": \"user\", \"content\": f\"JSON format {json_format}\"}\n",
    "            # {\n",
    "            #     \"role\": \"user\",\n",
    "            #     \"content\": \"Tips: Make sure to pay attention to the attributes of the HTML tags, especialy the rowspan attributes\",\n",
    "            # },\n",
    "            # {\"role\": \"user\", \"content\": \"Tips: pay attention to the dates\"},\n",
    "        ],\n",
    "        max_tokens=2048,\n",
    "    )\n",
    "    return completion"
   ]
  },
  {
   "cell_type": "markdown",
   "metadata": {},
   "source": [
    "For some reason mistral models on together are throwing some internal server error. Other models give varying degree of outputs. The one below is a very peculiar case of outputs.\n"
   ]
  },
  {
   "cell_type": "code",
   "execution_count": 39,
   "metadata": {},
   "outputs": [],
   "source": [
    "html_chunks = utils.html_chunker(table_rows, chunk_size=4)\n",
    "html_input = utils.html_to_str(html_chunks[0])\n",
    "output = html_to_json_ai(\n",
    "    html_input,\n",
    "    model=\"togethercomputer/StripedHyena-Nous-7B\",\n",
    "    json_format=json_format,\n",
    "    api_key=config[\"TOGETHERAI_API_KEY\"],\n",
    "    url=\"https://api.together.xyz\",\n",
    ")"
   ]
  },
  {
   "cell_type": "code",
   "execution_count": 40,
   "metadata": {},
   "outputs": [
    {
     "name": "stdout",
     "output_type": "stream",
     "text": [
      "### Response:\n",
      "Here's the Python code to convert the given HTML table to the specified JSON format:\n",
      "```python\n",
      "import re\n",
      "from bs4 import BeautifulSoup\n",
      "# HTML input\n",
      "html_input = \"\"\"\n",
      "<tr>\n",
      "<th>.mw-parser-output .tooltip-dotted{border-bottom:1px dotted;cursor:help}#\n",
      "</th>\n",
      "<th>Weekend end date</th>\n",
      "<th>Film</th>\n",
      "<th>Gross</th>\n",
      "<th>Notes</th>\n",
      "<th class=\"unsortable\">Ref.\n",
      "</th></tr>\n",
      "\n",
      "<tr>\n",
      "<td>1</td>\n",
      "<td>January 8, 2023</td>\n",
      "<td rowspan=\"4\">Avatar: The Way of Water</td>\n",
      "<td>$45,838,986</td>\n",
      "<td>Black Panther: Wakanda Forever and Avatar: The Way of Water became the first two films to consecutively top the box office for four consecutive weekends each since The Hunger Games: Mockingjay – Part 2 and Star Wars: The Force Awakens in 2015 and 2016.</td>\n",
      "<td>[2]</td></tr>\n",
      "\n",
      "<tr>\n",
      "<td>2</td>\n",
      "<td>January 15, 2023</td>\n",
      "<td>$32,824,684</td>\n",
      "<td>Black Panther: Wakanda Forever and Avatar: The Way of Water became the first two films to consecutively top the box office for five consecutive weekends each since Stakeout and Fatal Attraction in 1987.</td>\n",
      "<td>[3]</td></tr>\n",
      "\n",
      "<tr>\n",
      "<td>3</td>\n",
      "<td>January 22, 2023</td>\n",
      "<td>$20,133,106</td>\n",
      "<td>Avatar: The Way of Water became the first film since Avatar to top the box office for six consecutive weekends. It also became the first film since Spider-Man: No Way Home to top the box office in its sixth week of release, as well as for six total weekends. During the weekend, the film surpassed $2 billion at the global box office.</td>\n",
      "<td>[4]</td></tr>\n",
      "\n",
      "<tr>\n",
      "<td>4</td>\n",
      "<td>January 29, 2023</td>\n",
      "<td>$15,968,532</td>\n",
      "<td>Avatar: The Way of Water became the first film since Avatar to top the box office for seven consecutive weekends, as well as the first film since Spider-Man: No Way Home to top the box office in its seventh week of release.</td>\n",
      "<td>[5]</td></tr>\n",
      "\"\"\"\n",
      "# Parse HTML\n",
      "soup = BeautifulSoup(html_input, \"html.parser\")\n",
      "# Find table rows\n",
      "rows = soup.find(\"table\").find_all(\"tr\")\n",
      "# Create JSON object\n",
      "json_output = {\n",
      "    \"items\": []\n",
      "}\n",
      "# Loop through rows\n",
      "for row in rows[1:]:\n",
      "    # Extract data from row\n",
      "    weekend_end_date = row.find(\"td\", {\"class\": \"unsortable\"}).text.strip()\n",
      "    film = row.find(\"td\", {\"scope\": \"row\"}).text.strip()\n",
      "    gross = row.find(\"td\", {\"scope\": \"row\"}).next_sibling.text.strip()\n",
      "    notes = row.find(\"td\").text.strip()\n",
      "    # Add data to JSON object\n",
      "    json_output[\"items\"].append({\n",
      "        \"weekend_end_date\": weekend_end_date,\n",
      "        \"film\": film,\n",
      "        \"gross\": gross,\n",
      "        \"notes\": notes\n",
      "    })\n",
      "# Print JSON output\n",
      "print(json.dumps(json_output, indent=4))\n",
      "```\n",
      "Output:\n",
      "```json\n",
      "{\n",
      "    \"items\": [\n",
      "        {\n",
      "            \"weekend_end_date\": \"January 8, 2023\",\n",
      "            \"film\": \"Avatar: The Way of Water\",\n",
      "            \"gross\": \"$45,838,986\",\n",
      "            \"notes\": \"Black Panther: Wakanda Forever and Avatar: The Way of Water became the first two films to consecutively top the box office for four consecutive weekends each since The Hunger Games: Mockingjay – Part 2 and Star Wars: The Force Awakens in 2015 and 2016.\"\n",
      "        },\n",
      "        {\n",
      "            \"weekend_end_date\": \"January 15, 2023\",\n",
      "            \"film\": \"Avatar: The Way of Water\",\n",
      "            \"gross\": \"$32,824,684\",\n",
      "            \"notes\": \"Black Panther: Wakanda Forever and Avatar: The Way of Water became the first two films to consecutively top the box office for five consecutive weekends each since Stakeout and Fatal Attraction in 1987.\"\n",
      "        },\n",
      "        {\n",
      "            \"weekend_end_date\": \"January 22, 2023\",\n",
      "            \"film\": \"Avatar: The Way of Water\",\n",
      "            \"gross\": \"$20,133,106\",\n",
      "            \"notes\": \"Avatar: The Way of Water became the first film since Avatar to top the box office for six consecutive weekends. It also became the first film since Spider-Man: No Way Home to top the box office in its sixth week of release, as well as for six total weekends.\"\n",
      "        },\n",
      "        {\n",
      "            \"weekend_end_date\": \"January 29, 2023\",\n",
      "            \"film\": \"Avatar: The Way of Water\",\n",
      "            \"gross\": \"$15,968,532\",\n",
      "            \"notes\": \"Avatar: The Way of Water became the first film since Avatar to top the box office for seven consecutive weekends, as well as the first film since Spider-Man: No Way Home to top the box office in its seventh week of release.\"\n",
      "        }\n",
      "    ]\n",
      "}\n",
      "```\n",
      "\n"
     ]
    }
   ],
   "source": [
    "print(output.choices[0].message.content)"
   ]
  },
  {
   "cell_type": "code",
   "execution_count": 41,
   "metadata": {},
   "outputs": [
    {
     "ename": "InternalServerError",
     "evalue": "Error code: 500 - {'error': '(unknown path)\\n  Error: Unable to call `raise_exception`, which is undefined or falsey'}",
     "output_type": "error",
     "traceback": [
      "\u001b[0;31m---------------------------------------------------------------------------\u001b[0m",
      "\u001b[0;31mInternalServerError\u001b[0m                       Traceback (most recent call last)",
      "Cell \u001b[0;32mIn[41], line 3\u001b[0m\n\u001b[1;32m      1\u001b[0m html_chunks \u001b[38;5;241m=\u001b[39m utils\u001b[38;5;241m.\u001b[39mhtml_chunker(table_rows, chunk_size\u001b[38;5;241m=\u001b[39m\u001b[38;5;241m4\u001b[39m)\n\u001b[1;32m      2\u001b[0m html_input \u001b[38;5;241m=\u001b[39m utils\u001b[38;5;241m.\u001b[39mhtml_to_str(html_chunks[\u001b[38;5;241m0\u001b[39m])\n\u001b[0;32m----> 3\u001b[0m output \u001b[38;5;241m=\u001b[39m \u001b[43mhtml_to_json_ai\u001b[49m\u001b[43m(\u001b[49m\n\u001b[1;32m      4\u001b[0m \u001b[43m    \u001b[49m\u001b[43mhtml_input\u001b[49m\u001b[43m,\u001b[49m\n\u001b[1;32m      5\u001b[0m \u001b[43m    \u001b[49m\u001b[43mmodel\u001b[49m\u001b[38;5;241;43m=\u001b[39;49m\u001b[38;5;124;43m\"\u001b[39;49m\u001b[38;5;124;43mtogethercomputer/Llama-2-7B-32K-Instruct\u001b[39;49m\u001b[38;5;124;43m\"\u001b[39;49m\u001b[43m,\u001b[49m\n\u001b[1;32m      6\u001b[0m \u001b[43m    \u001b[49m\u001b[43mjson_format\u001b[49m\u001b[38;5;241;43m=\u001b[39;49m\u001b[43mjson_format\u001b[49m\u001b[43m,\u001b[49m\n\u001b[1;32m      7\u001b[0m \u001b[43m    \u001b[49m\u001b[43mapi_key\u001b[49m\u001b[38;5;241;43m=\u001b[39;49m\u001b[43mconfig\u001b[49m\u001b[43m[\u001b[49m\u001b[38;5;124;43m\"\u001b[39;49m\u001b[38;5;124;43mTOGETHERAI_API_KEY\u001b[39;49m\u001b[38;5;124;43m\"\u001b[39;49m\u001b[43m]\u001b[49m\u001b[43m,\u001b[49m\n\u001b[1;32m      8\u001b[0m \u001b[43m    \u001b[49m\u001b[43murl\u001b[49m\u001b[38;5;241;43m=\u001b[39;49m\u001b[38;5;124;43m\"\u001b[39;49m\u001b[38;5;124;43mhttps://api.together.xyz\u001b[39;49m\u001b[38;5;124;43m\"\u001b[39;49m\u001b[43m,\u001b[49m\n\u001b[1;32m      9\u001b[0m \u001b[43m)\u001b[49m\n",
      "Cell \u001b[0;32mIn[38], line 19\u001b[0m, in \u001b[0;36mhtml_to_json_ai\u001b[0;34m(data, model, json_format, api_key, url)\u001b[0m\n\u001b[1;32m      4\u001b[0m \u001b[38;5;250m\u001b[39m\u001b[38;5;124;03m\"\"\"\u001b[39;00m\n\u001b[1;32m      5\u001b[0m \u001b[38;5;124;03mFunction to convert the given raw HTML string into structured JSON object following a predefined schema\u001b[39;00m\n\u001b[1;32m      6\u001b[0m \u001b[38;5;124;03mby calling llm using api keys\u001b[39;00m\n\u001b[0;32m   (...)\u001b[0m\n\u001b[1;32m     16\u001b[0m \u001b[38;5;124;03mjson dumped from the BoxOffice object after parsing the model response in the needed format\u001b[39;00m\n\u001b[1;32m     17\u001b[0m \u001b[38;5;124;03m\"\"\"\u001b[39;00m\n\u001b[1;32m     18\u001b[0m client \u001b[38;5;241m=\u001b[39m openai\u001b[38;5;241m.\u001b[39mOpenAI(api_key\u001b[38;5;241m=\u001b[39mapi_key, base_url\u001b[38;5;241m=\u001b[39murl)\n\u001b[0;32m---> 19\u001b[0m completion \u001b[38;5;241m=\u001b[39m \u001b[43mclient\u001b[49m\u001b[38;5;241;43m.\u001b[39;49m\u001b[43mchat\u001b[49m\u001b[38;5;241;43m.\u001b[39;49m\u001b[43mcompletions\u001b[49m\u001b[38;5;241;43m.\u001b[39;49m\u001b[43mcreate\u001b[49m\u001b[43m(\u001b[49m\n\u001b[1;32m     20\u001b[0m \u001b[43m    \u001b[49m\u001b[43mmodel\u001b[49m\u001b[38;5;241;43m=\u001b[39;49m\u001b[43mmodel\u001b[49m\u001b[43m,\u001b[49m\n\u001b[1;32m     21\u001b[0m \u001b[43m    \u001b[49m\u001b[43mmessages\u001b[49m\u001b[38;5;241;43m=\u001b[39;49m\u001b[43m[\u001b[49m\n\u001b[1;32m     22\u001b[0m \u001b[43m        \u001b[49m\u001b[43m{\u001b[49m\n\u001b[1;32m     23\u001b[0m \u001b[43m            \u001b[49m\u001b[38;5;124;43m\"\u001b[39;49m\u001b[38;5;124;43mrole\u001b[39;49m\u001b[38;5;124;43m\"\u001b[39;49m\u001b[43m:\u001b[49m\u001b[43m \u001b[49m\u001b[38;5;124;43m\"\u001b[39;49m\u001b[38;5;124;43msystem\u001b[39;49m\u001b[38;5;124;43m\"\u001b[39;49m\u001b[43m,\u001b[49m\n\u001b[1;32m     24\u001b[0m \u001b[43m            \u001b[49m\u001b[38;5;124;43m\"\u001b[39;49m\u001b[38;5;124;43mcontent\u001b[39;49m\u001b[38;5;124;43m\"\u001b[39;49m\u001b[43m:\u001b[49m\u001b[43m \u001b[49m\u001b[38;5;124;43m\"\u001b[39;49m\u001b[38;5;124;43mYou are a world class algorithm to convert html to json as per specified format\u001b[39;49m\u001b[38;5;124;43m\"\u001b[39;49m\u001b[43m,\u001b[49m\n\u001b[1;32m     25\u001b[0m \u001b[43m        \u001b[49m\u001b[43m}\u001b[49m\u001b[43m,\u001b[49m\n\u001b[1;32m     26\u001b[0m \u001b[43m        \u001b[49m\u001b[43m{\u001b[49m\n\u001b[1;32m     27\u001b[0m \u001b[43m            \u001b[49m\u001b[38;5;124;43m\"\u001b[39;49m\u001b[38;5;124;43mrole\u001b[39;49m\u001b[38;5;124;43m\"\u001b[39;49m\u001b[43m:\u001b[49m\u001b[43m \u001b[49m\u001b[38;5;124;43m\"\u001b[39;49m\u001b[38;5;124;43muser\u001b[39;49m\u001b[38;5;124;43m\"\u001b[39;49m\u001b[43m,\u001b[49m\n\u001b[1;32m     28\u001b[0m \u001b[43m            \u001b[49m\u001b[38;5;124;43m\"\u001b[39;49m\u001b[38;5;124;43mcontent\u001b[39;49m\u001b[38;5;124;43m\"\u001b[39;49m\u001b[43m:\u001b[49m\u001b[43m \u001b[49m\u001b[38;5;124;43mf\u001b[39;49m\u001b[38;5;124;43m\"\u001b[39;49m\u001b[38;5;124;43mConvert rows in given HTML to the specified JSON\u001b[39;49m\u001b[38;5;124;43m\"\u001b[39;49m\u001b[43m,\u001b[49m\n\u001b[1;32m     29\u001b[0m \u001b[43m        \u001b[49m\u001b[43m}\u001b[49m\u001b[43m,\u001b[49m\n\u001b[1;32m     30\u001b[0m \u001b[43m        \u001b[49m\u001b[43m{\u001b[49m\u001b[38;5;124;43m\"\u001b[39;49m\u001b[38;5;124;43mrole\u001b[39;49m\u001b[38;5;124;43m\"\u001b[39;49m\u001b[43m:\u001b[49m\u001b[43m \u001b[49m\u001b[38;5;124;43m\"\u001b[39;49m\u001b[38;5;124;43muser\u001b[39;49m\u001b[38;5;124;43m\"\u001b[39;49m\u001b[43m,\u001b[49m\u001b[43m \u001b[49m\u001b[38;5;124;43m\"\u001b[39;49m\u001b[38;5;124;43mcontent\u001b[39;49m\u001b[38;5;124;43m\"\u001b[39;49m\u001b[43m:\u001b[49m\u001b[43m \u001b[49m\u001b[38;5;124;43mf\u001b[39;49m\u001b[38;5;124;43m\"\u001b[39;49m\u001b[38;5;124;43mHTML input: ```\u001b[39;49m\u001b[38;5;132;43;01m{\u001b[39;49;00m\u001b[43mdata\u001b[49m\u001b[38;5;132;43;01m}\u001b[39;49;00m\u001b[38;5;124;43m```\u001b[39;49m\u001b[38;5;124;43m\"\u001b[39;49m\u001b[43m}\u001b[49m\u001b[43m,\u001b[49m\n\u001b[1;32m     31\u001b[0m \u001b[43m        \u001b[49m\u001b[43m{\u001b[49m\u001b[38;5;124;43m\"\u001b[39;49m\u001b[38;5;124;43mrole\u001b[39;49m\u001b[38;5;124;43m\"\u001b[39;49m\u001b[43m:\u001b[49m\u001b[43m \u001b[49m\u001b[38;5;124;43m\"\u001b[39;49m\u001b[38;5;124;43muser\u001b[39;49m\u001b[38;5;124;43m\"\u001b[39;49m\u001b[43m,\u001b[49m\u001b[43m \u001b[49m\u001b[38;5;124;43m\"\u001b[39;49m\u001b[38;5;124;43mcontent\u001b[39;49m\u001b[38;5;124;43m\"\u001b[39;49m\u001b[43m:\u001b[49m\u001b[43m \u001b[49m\u001b[38;5;124;43mf\u001b[39;49m\u001b[38;5;124;43m\"\u001b[39;49m\u001b[38;5;124;43mJSON format \u001b[39;49m\u001b[38;5;132;43;01m{\u001b[39;49;00m\u001b[43mjson_format\u001b[49m\u001b[38;5;132;43;01m}\u001b[39;49;00m\u001b[38;5;124;43m\"\u001b[39;49m\u001b[43m}\u001b[49m\n\u001b[1;32m     32\u001b[0m \u001b[43m        \u001b[49m\u001b[38;5;66;43;03m# {\u001b[39;49;00m\n\u001b[1;32m     33\u001b[0m \u001b[43m        \u001b[49m\u001b[38;5;66;43;03m#     \"role\": \"user\",\u001b[39;49;00m\n\u001b[1;32m     34\u001b[0m \u001b[43m        \u001b[49m\u001b[38;5;66;43;03m#     \"content\": \"Tips: Make sure to pay attention to the attributes of the HTML tags, especialy the rowspan attributes\",\u001b[39;49;00m\n\u001b[1;32m     35\u001b[0m \u001b[43m        \u001b[49m\u001b[38;5;66;43;03m# },\u001b[39;49;00m\n\u001b[1;32m     36\u001b[0m \u001b[43m        \u001b[49m\u001b[38;5;66;43;03m# {\"role\": \"user\", \"content\": \"Tips: pay attention to the dates\"},\u001b[39;49;00m\n\u001b[1;32m     37\u001b[0m \u001b[43m    \u001b[49m\u001b[43m]\u001b[49m\u001b[43m,\u001b[49m\n\u001b[1;32m     38\u001b[0m \u001b[43m    \u001b[49m\u001b[43mmax_tokens\u001b[49m\u001b[38;5;241;43m=\u001b[39;49m\u001b[38;5;241;43m2048\u001b[39;49m\u001b[43m,\u001b[49m\n\u001b[1;32m     39\u001b[0m \u001b[43m\u001b[49m\u001b[43m)\u001b[49m\n\u001b[1;32m     40\u001b[0m \u001b[38;5;28;01mreturn\u001b[39;00m completion\n",
      "File \u001b[0;32m/data/code/pycode/longshot-ai-assignment/longshotai/lib/python3.11/site-packages/openai/_utils/_utils.py:303\u001b[0m, in \u001b[0;36mrequired_args.<locals>.inner.<locals>.wrapper\u001b[0;34m(*args, **kwargs)\u001b[0m\n\u001b[1;32m    301\u001b[0m             msg \u001b[38;5;241m=\u001b[39m \u001b[38;5;124mf\u001b[39m\u001b[38;5;124m\"\u001b[39m\u001b[38;5;124mMissing required argument: \u001b[39m\u001b[38;5;132;01m{\u001b[39;00mquote(missing[\u001b[38;5;241m0\u001b[39m])\u001b[38;5;132;01m}\u001b[39;00m\u001b[38;5;124m\"\u001b[39m\n\u001b[1;32m    302\u001b[0m     \u001b[38;5;28;01mraise\u001b[39;00m \u001b[38;5;167;01mTypeError\u001b[39;00m(msg)\n\u001b[0;32m--> 303\u001b[0m \u001b[38;5;28;01mreturn\u001b[39;00m \u001b[43mfunc\u001b[49m\u001b[43m(\u001b[49m\u001b[38;5;241;43m*\u001b[39;49m\u001b[43margs\u001b[49m\u001b[43m,\u001b[49m\u001b[43m \u001b[49m\u001b[38;5;241;43m*\u001b[39;49m\u001b[38;5;241;43m*\u001b[39;49m\u001b[43mkwargs\u001b[49m\u001b[43m)\u001b[49m\n",
      "File \u001b[0;32m/data/code/pycode/longshot-ai-assignment/longshotai/lib/python3.11/site-packages/openai/resources/chat/completions.py:598\u001b[0m, in \u001b[0;36mCompletions.create\u001b[0;34m(self, messages, model, frequency_penalty, function_call, functions, logit_bias, max_tokens, n, presence_penalty, response_format, seed, stop, stream, temperature, tool_choice, tools, top_p, user, extra_headers, extra_query, extra_body, timeout)\u001b[0m\n\u001b[1;32m    551\u001b[0m \u001b[38;5;129m@required_args\u001b[39m([\u001b[38;5;124m\"\u001b[39m\u001b[38;5;124mmessages\u001b[39m\u001b[38;5;124m\"\u001b[39m, \u001b[38;5;124m\"\u001b[39m\u001b[38;5;124mmodel\u001b[39m\u001b[38;5;124m\"\u001b[39m], [\u001b[38;5;124m\"\u001b[39m\u001b[38;5;124mmessages\u001b[39m\u001b[38;5;124m\"\u001b[39m, \u001b[38;5;124m\"\u001b[39m\u001b[38;5;124mmodel\u001b[39m\u001b[38;5;124m\"\u001b[39m, \u001b[38;5;124m\"\u001b[39m\u001b[38;5;124mstream\u001b[39m\u001b[38;5;124m\"\u001b[39m])\n\u001b[1;32m    552\u001b[0m \u001b[38;5;28;01mdef\u001b[39;00m \u001b[38;5;21mcreate\u001b[39m(\n\u001b[1;32m    553\u001b[0m     \u001b[38;5;28mself\u001b[39m,\n\u001b[0;32m   (...)\u001b[0m\n\u001b[1;32m    596\u001b[0m     timeout: \u001b[38;5;28mfloat\u001b[39m \u001b[38;5;241m|\u001b[39m httpx\u001b[38;5;241m.\u001b[39mTimeout \u001b[38;5;241m|\u001b[39m \u001b[38;5;28;01mNone\u001b[39;00m \u001b[38;5;241m|\u001b[39m NotGiven \u001b[38;5;241m=\u001b[39m NOT_GIVEN,\n\u001b[1;32m    597\u001b[0m ) \u001b[38;5;241m-\u001b[39m\u001b[38;5;241m>\u001b[39m ChatCompletion \u001b[38;5;241m|\u001b[39m Stream[ChatCompletionChunk]:\n\u001b[0;32m--> 598\u001b[0m     \u001b[38;5;28;01mreturn\u001b[39;00m \u001b[38;5;28;43mself\u001b[39;49m\u001b[38;5;241;43m.\u001b[39;49m\u001b[43m_post\u001b[49m\u001b[43m(\u001b[49m\n\u001b[1;32m    599\u001b[0m \u001b[43m        \u001b[49m\u001b[38;5;124;43m\"\u001b[39;49m\u001b[38;5;124;43m/chat/completions\u001b[39;49m\u001b[38;5;124;43m\"\u001b[39;49m\u001b[43m,\u001b[49m\n\u001b[1;32m    600\u001b[0m \u001b[43m        \u001b[49m\u001b[43mbody\u001b[49m\u001b[38;5;241;43m=\u001b[39;49m\u001b[43mmaybe_transform\u001b[49m\u001b[43m(\u001b[49m\n\u001b[1;32m    601\u001b[0m \u001b[43m            \u001b[49m\u001b[43m{\u001b[49m\n\u001b[1;32m    602\u001b[0m \u001b[43m                \u001b[49m\u001b[38;5;124;43m\"\u001b[39;49m\u001b[38;5;124;43mmessages\u001b[39;49m\u001b[38;5;124;43m\"\u001b[39;49m\u001b[43m:\u001b[49m\u001b[43m \u001b[49m\u001b[43mmessages\u001b[49m\u001b[43m,\u001b[49m\n\u001b[1;32m    603\u001b[0m \u001b[43m                \u001b[49m\u001b[38;5;124;43m\"\u001b[39;49m\u001b[38;5;124;43mmodel\u001b[39;49m\u001b[38;5;124;43m\"\u001b[39;49m\u001b[43m:\u001b[49m\u001b[43m \u001b[49m\u001b[43mmodel\u001b[49m\u001b[43m,\u001b[49m\n\u001b[1;32m    604\u001b[0m \u001b[43m                \u001b[49m\u001b[38;5;124;43m\"\u001b[39;49m\u001b[38;5;124;43mfrequency_penalty\u001b[39;49m\u001b[38;5;124;43m\"\u001b[39;49m\u001b[43m:\u001b[49m\u001b[43m \u001b[49m\u001b[43mfrequency_penalty\u001b[49m\u001b[43m,\u001b[49m\n\u001b[1;32m    605\u001b[0m \u001b[43m                \u001b[49m\u001b[38;5;124;43m\"\u001b[39;49m\u001b[38;5;124;43mfunction_call\u001b[39;49m\u001b[38;5;124;43m\"\u001b[39;49m\u001b[43m:\u001b[49m\u001b[43m \u001b[49m\u001b[43mfunction_call\u001b[49m\u001b[43m,\u001b[49m\n\u001b[1;32m    606\u001b[0m \u001b[43m                \u001b[49m\u001b[38;5;124;43m\"\u001b[39;49m\u001b[38;5;124;43mfunctions\u001b[39;49m\u001b[38;5;124;43m\"\u001b[39;49m\u001b[43m:\u001b[49m\u001b[43m \u001b[49m\u001b[43mfunctions\u001b[49m\u001b[43m,\u001b[49m\n\u001b[1;32m    607\u001b[0m \u001b[43m                \u001b[49m\u001b[38;5;124;43m\"\u001b[39;49m\u001b[38;5;124;43mlogit_bias\u001b[39;49m\u001b[38;5;124;43m\"\u001b[39;49m\u001b[43m:\u001b[49m\u001b[43m \u001b[49m\u001b[43mlogit_bias\u001b[49m\u001b[43m,\u001b[49m\n\u001b[1;32m    608\u001b[0m \u001b[43m                \u001b[49m\u001b[38;5;124;43m\"\u001b[39;49m\u001b[38;5;124;43mmax_tokens\u001b[39;49m\u001b[38;5;124;43m\"\u001b[39;49m\u001b[43m:\u001b[49m\u001b[43m \u001b[49m\u001b[43mmax_tokens\u001b[49m\u001b[43m,\u001b[49m\n\u001b[1;32m    609\u001b[0m \u001b[43m                \u001b[49m\u001b[38;5;124;43m\"\u001b[39;49m\u001b[38;5;124;43mn\u001b[39;49m\u001b[38;5;124;43m\"\u001b[39;49m\u001b[43m:\u001b[49m\u001b[43m \u001b[49m\u001b[43mn\u001b[49m\u001b[43m,\u001b[49m\n\u001b[1;32m    610\u001b[0m \u001b[43m                \u001b[49m\u001b[38;5;124;43m\"\u001b[39;49m\u001b[38;5;124;43mpresence_penalty\u001b[39;49m\u001b[38;5;124;43m\"\u001b[39;49m\u001b[43m:\u001b[49m\u001b[43m \u001b[49m\u001b[43mpresence_penalty\u001b[49m\u001b[43m,\u001b[49m\n\u001b[1;32m    611\u001b[0m \u001b[43m                \u001b[49m\u001b[38;5;124;43m\"\u001b[39;49m\u001b[38;5;124;43mresponse_format\u001b[39;49m\u001b[38;5;124;43m\"\u001b[39;49m\u001b[43m:\u001b[49m\u001b[43m \u001b[49m\u001b[43mresponse_format\u001b[49m\u001b[43m,\u001b[49m\n\u001b[1;32m    612\u001b[0m \u001b[43m                \u001b[49m\u001b[38;5;124;43m\"\u001b[39;49m\u001b[38;5;124;43mseed\u001b[39;49m\u001b[38;5;124;43m\"\u001b[39;49m\u001b[43m:\u001b[49m\u001b[43m \u001b[49m\u001b[43mseed\u001b[49m\u001b[43m,\u001b[49m\n\u001b[1;32m    613\u001b[0m \u001b[43m                \u001b[49m\u001b[38;5;124;43m\"\u001b[39;49m\u001b[38;5;124;43mstop\u001b[39;49m\u001b[38;5;124;43m\"\u001b[39;49m\u001b[43m:\u001b[49m\u001b[43m \u001b[49m\u001b[43mstop\u001b[49m\u001b[43m,\u001b[49m\n\u001b[1;32m    614\u001b[0m \u001b[43m                \u001b[49m\u001b[38;5;124;43m\"\u001b[39;49m\u001b[38;5;124;43mstream\u001b[39;49m\u001b[38;5;124;43m\"\u001b[39;49m\u001b[43m:\u001b[49m\u001b[43m \u001b[49m\u001b[43mstream\u001b[49m\u001b[43m,\u001b[49m\n\u001b[1;32m    615\u001b[0m \u001b[43m                \u001b[49m\u001b[38;5;124;43m\"\u001b[39;49m\u001b[38;5;124;43mtemperature\u001b[39;49m\u001b[38;5;124;43m\"\u001b[39;49m\u001b[43m:\u001b[49m\u001b[43m \u001b[49m\u001b[43mtemperature\u001b[49m\u001b[43m,\u001b[49m\n\u001b[1;32m    616\u001b[0m \u001b[43m                \u001b[49m\u001b[38;5;124;43m\"\u001b[39;49m\u001b[38;5;124;43mtool_choice\u001b[39;49m\u001b[38;5;124;43m\"\u001b[39;49m\u001b[43m:\u001b[49m\u001b[43m \u001b[49m\u001b[43mtool_choice\u001b[49m\u001b[43m,\u001b[49m\n\u001b[1;32m    617\u001b[0m \u001b[43m                \u001b[49m\u001b[38;5;124;43m\"\u001b[39;49m\u001b[38;5;124;43mtools\u001b[39;49m\u001b[38;5;124;43m\"\u001b[39;49m\u001b[43m:\u001b[49m\u001b[43m \u001b[49m\u001b[43mtools\u001b[49m\u001b[43m,\u001b[49m\n\u001b[1;32m    618\u001b[0m \u001b[43m                \u001b[49m\u001b[38;5;124;43m\"\u001b[39;49m\u001b[38;5;124;43mtop_p\u001b[39;49m\u001b[38;5;124;43m\"\u001b[39;49m\u001b[43m:\u001b[49m\u001b[43m \u001b[49m\u001b[43mtop_p\u001b[49m\u001b[43m,\u001b[49m\n\u001b[1;32m    619\u001b[0m \u001b[43m                \u001b[49m\u001b[38;5;124;43m\"\u001b[39;49m\u001b[38;5;124;43muser\u001b[39;49m\u001b[38;5;124;43m\"\u001b[39;49m\u001b[43m:\u001b[49m\u001b[43m \u001b[49m\u001b[43muser\u001b[49m\u001b[43m,\u001b[49m\n\u001b[1;32m    620\u001b[0m \u001b[43m            \u001b[49m\u001b[43m}\u001b[49m\u001b[43m,\u001b[49m\n\u001b[1;32m    621\u001b[0m \u001b[43m            \u001b[49m\u001b[43mcompletion_create_params\u001b[49m\u001b[38;5;241;43m.\u001b[39;49m\u001b[43mCompletionCreateParams\u001b[49m\u001b[43m,\u001b[49m\n\u001b[1;32m    622\u001b[0m \u001b[43m        \u001b[49m\u001b[43m)\u001b[49m\u001b[43m,\u001b[49m\n\u001b[1;32m    623\u001b[0m \u001b[43m        \u001b[49m\u001b[43moptions\u001b[49m\u001b[38;5;241;43m=\u001b[39;49m\u001b[43mmake_request_options\u001b[49m\u001b[43m(\u001b[49m\n\u001b[1;32m    624\u001b[0m \u001b[43m            \u001b[49m\u001b[43mextra_headers\u001b[49m\u001b[38;5;241;43m=\u001b[39;49m\u001b[43mextra_headers\u001b[49m\u001b[43m,\u001b[49m\u001b[43m \u001b[49m\u001b[43mextra_query\u001b[49m\u001b[38;5;241;43m=\u001b[39;49m\u001b[43mextra_query\u001b[49m\u001b[43m,\u001b[49m\u001b[43m \u001b[49m\u001b[43mextra_body\u001b[49m\u001b[38;5;241;43m=\u001b[39;49m\u001b[43mextra_body\u001b[49m\u001b[43m,\u001b[49m\u001b[43m \u001b[49m\u001b[43mtimeout\u001b[49m\u001b[38;5;241;43m=\u001b[39;49m\u001b[43mtimeout\u001b[49m\n\u001b[1;32m    625\u001b[0m \u001b[43m        \u001b[49m\u001b[43m)\u001b[49m\u001b[43m,\u001b[49m\n\u001b[1;32m    626\u001b[0m \u001b[43m        \u001b[49m\u001b[43mcast_to\u001b[49m\u001b[38;5;241;43m=\u001b[39;49m\u001b[43mChatCompletion\u001b[49m\u001b[43m,\u001b[49m\n\u001b[1;32m    627\u001b[0m \u001b[43m        \u001b[49m\u001b[43mstream\u001b[49m\u001b[38;5;241;43m=\u001b[39;49m\u001b[43mstream\u001b[49m\u001b[43m \u001b[49m\u001b[38;5;129;43;01mor\u001b[39;49;00m\u001b[43m \u001b[49m\u001b[38;5;28;43;01mFalse\u001b[39;49;00m\u001b[43m,\u001b[49m\n\u001b[1;32m    628\u001b[0m \u001b[43m        \u001b[49m\u001b[43mstream_cls\u001b[49m\u001b[38;5;241;43m=\u001b[39;49m\u001b[43mStream\u001b[49m\u001b[43m[\u001b[49m\u001b[43mChatCompletionChunk\u001b[49m\u001b[43m]\u001b[49m\u001b[43m,\u001b[49m\n\u001b[1;32m    629\u001b[0m \u001b[43m    \u001b[49m\u001b[43m)\u001b[49m\n",
      "File \u001b[0;32m/data/code/pycode/longshot-ai-assignment/longshotai/lib/python3.11/site-packages/openai/_base_client.py:1088\u001b[0m, in \u001b[0;36mSyncAPIClient.post\u001b[0;34m(self, path, cast_to, body, options, files, stream, stream_cls)\u001b[0m\n\u001b[1;32m   1074\u001b[0m \u001b[38;5;28;01mdef\u001b[39;00m \u001b[38;5;21mpost\u001b[39m(\n\u001b[1;32m   1075\u001b[0m     \u001b[38;5;28mself\u001b[39m,\n\u001b[1;32m   1076\u001b[0m     path: \u001b[38;5;28mstr\u001b[39m,\n\u001b[0;32m   (...)\u001b[0m\n\u001b[1;32m   1083\u001b[0m     stream_cls: \u001b[38;5;28mtype\u001b[39m[_StreamT] \u001b[38;5;241m|\u001b[39m \u001b[38;5;28;01mNone\u001b[39;00m \u001b[38;5;241m=\u001b[39m \u001b[38;5;28;01mNone\u001b[39;00m,\n\u001b[1;32m   1084\u001b[0m ) \u001b[38;5;241m-\u001b[39m\u001b[38;5;241m>\u001b[39m ResponseT \u001b[38;5;241m|\u001b[39m _StreamT:\n\u001b[1;32m   1085\u001b[0m     opts \u001b[38;5;241m=\u001b[39m FinalRequestOptions\u001b[38;5;241m.\u001b[39mconstruct(\n\u001b[1;32m   1086\u001b[0m         method\u001b[38;5;241m=\u001b[39m\u001b[38;5;124m\"\u001b[39m\u001b[38;5;124mpost\u001b[39m\u001b[38;5;124m\"\u001b[39m, url\u001b[38;5;241m=\u001b[39mpath, json_data\u001b[38;5;241m=\u001b[39mbody, files\u001b[38;5;241m=\u001b[39mto_httpx_files(files), \u001b[38;5;241m*\u001b[39m\u001b[38;5;241m*\u001b[39moptions\n\u001b[1;32m   1087\u001b[0m     )\n\u001b[0;32m-> 1088\u001b[0m     \u001b[38;5;28;01mreturn\u001b[39;00m cast(ResponseT, \u001b[38;5;28;43mself\u001b[39;49m\u001b[38;5;241;43m.\u001b[39;49m\u001b[43mrequest\u001b[49m\u001b[43m(\u001b[49m\u001b[43mcast_to\u001b[49m\u001b[43m,\u001b[49m\u001b[43m \u001b[49m\u001b[43mopts\u001b[49m\u001b[43m,\u001b[49m\u001b[43m \u001b[49m\u001b[43mstream\u001b[49m\u001b[38;5;241;43m=\u001b[39;49m\u001b[43mstream\u001b[49m\u001b[43m,\u001b[49m\u001b[43m \u001b[49m\u001b[43mstream_cls\u001b[49m\u001b[38;5;241;43m=\u001b[39;49m\u001b[43mstream_cls\u001b[49m\u001b[43m)\u001b[49m)\n",
      "File \u001b[0;32m/data/code/pycode/longshot-ai-assignment/longshotai/lib/python3.11/site-packages/openai/_base_client.py:853\u001b[0m, in \u001b[0;36mSyncAPIClient.request\u001b[0;34m(self, cast_to, options, remaining_retries, stream, stream_cls)\u001b[0m\n\u001b[1;32m    844\u001b[0m \u001b[38;5;28;01mdef\u001b[39;00m \u001b[38;5;21mrequest\u001b[39m(\n\u001b[1;32m    845\u001b[0m     \u001b[38;5;28mself\u001b[39m,\n\u001b[1;32m    846\u001b[0m     cast_to: Type[ResponseT],\n\u001b[0;32m   (...)\u001b[0m\n\u001b[1;32m    851\u001b[0m     stream_cls: \u001b[38;5;28mtype\u001b[39m[_StreamT] \u001b[38;5;241m|\u001b[39m \u001b[38;5;28;01mNone\u001b[39;00m \u001b[38;5;241m=\u001b[39m \u001b[38;5;28;01mNone\u001b[39;00m,\n\u001b[1;32m    852\u001b[0m ) \u001b[38;5;241m-\u001b[39m\u001b[38;5;241m>\u001b[39m ResponseT \u001b[38;5;241m|\u001b[39m _StreamT:\n\u001b[0;32m--> 853\u001b[0m     \u001b[38;5;28;01mreturn\u001b[39;00m \u001b[38;5;28;43mself\u001b[39;49m\u001b[38;5;241;43m.\u001b[39;49m\u001b[43m_request\u001b[49m\u001b[43m(\u001b[49m\n\u001b[1;32m    854\u001b[0m \u001b[43m        \u001b[49m\u001b[43mcast_to\u001b[49m\u001b[38;5;241;43m=\u001b[39;49m\u001b[43mcast_to\u001b[49m\u001b[43m,\u001b[49m\n\u001b[1;32m    855\u001b[0m \u001b[43m        \u001b[49m\u001b[43moptions\u001b[49m\u001b[38;5;241;43m=\u001b[39;49m\u001b[43moptions\u001b[49m\u001b[43m,\u001b[49m\n\u001b[1;32m    856\u001b[0m \u001b[43m        \u001b[49m\u001b[43mstream\u001b[49m\u001b[38;5;241;43m=\u001b[39;49m\u001b[43mstream\u001b[49m\u001b[43m,\u001b[49m\n\u001b[1;32m    857\u001b[0m \u001b[43m        \u001b[49m\u001b[43mstream_cls\u001b[49m\u001b[38;5;241;43m=\u001b[39;49m\u001b[43mstream_cls\u001b[49m\u001b[43m,\u001b[49m\n\u001b[1;32m    858\u001b[0m \u001b[43m        \u001b[49m\u001b[43mremaining_retries\u001b[49m\u001b[38;5;241;43m=\u001b[39;49m\u001b[43mremaining_retries\u001b[49m\u001b[43m,\u001b[49m\n\u001b[1;32m    859\u001b[0m \u001b[43m    \u001b[49m\u001b[43m)\u001b[49m\n",
      "File \u001b[0;32m/data/code/pycode/longshot-ai-assignment/longshotai/lib/python3.11/site-packages/openai/_base_client.py:916\u001b[0m, in \u001b[0;36mSyncAPIClient._request\u001b[0;34m(self, cast_to, options, remaining_retries, stream, stream_cls)\u001b[0m\n\u001b[1;32m    914\u001b[0m \u001b[38;5;28;01mif\u001b[39;00m retries \u001b[38;5;241m>\u001b[39m \u001b[38;5;241m0\u001b[39m \u001b[38;5;129;01mand\u001b[39;00m \u001b[38;5;28mself\u001b[39m\u001b[38;5;241m.\u001b[39m_should_retry(err\u001b[38;5;241m.\u001b[39mresponse):\n\u001b[1;32m    915\u001b[0m     err\u001b[38;5;241m.\u001b[39mresponse\u001b[38;5;241m.\u001b[39mclose()\n\u001b[0;32m--> 916\u001b[0m     \u001b[38;5;28;01mreturn\u001b[39;00m \u001b[38;5;28;43mself\u001b[39;49m\u001b[38;5;241;43m.\u001b[39;49m\u001b[43m_retry_request\u001b[49m\u001b[43m(\u001b[49m\n\u001b[1;32m    917\u001b[0m \u001b[43m        \u001b[49m\u001b[43moptions\u001b[49m\u001b[43m,\u001b[49m\n\u001b[1;32m    918\u001b[0m \u001b[43m        \u001b[49m\u001b[43mcast_to\u001b[49m\u001b[43m,\u001b[49m\n\u001b[1;32m    919\u001b[0m \u001b[43m        \u001b[49m\u001b[43mretries\u001b[49m\u001b[43m,\u001b[49m\n\u001b[1;32m    920\u001b[0m \u001b[43m        \u001b[49m\u001b[43merr\u001b[49m\u001b[38;5;241;43m.\u001b[39;49m\u001b[43mresponse\u001b[49m\u001b[38;5;241;43m.\u001b[39;49m\u001b[43mheaders\u001b[49m\u001b[43m,\u001b[49m\n\u001b[1;32m    921\u001b[0m \u001b[43m        \u001b[49m\u001b[43mstream\u001b[49m\u001b[38;5;241;43m=\u001b[39;49m\u001b[43mstream\u001b[49m\u001b[43m,\u001b[49m\n\u001b[1;32m    922\u001b[0m \u001b[43m        \u001b[49m\u001b[43mstream_cls\u001b[49m\u001b[38;5;241;43m=\u001b[39;49m\u001b[43mstream_cls\u001b[49m\u001b[43m,\u001b[49m\n\u001b[1;32m    923\u001b[0m \u001b[43m    \u001b[49m\u001b[43m)\u001b[49m\n\u001b[1;32m    925\u001b[0m \u001b[38;5;66;03m# If the response is streamed then we need to explicitly read the response\u001b[39;00m\n\u001b[1;32m    926\u001b[0m \u001b[38;5;66;03m# to completion before attempting to access the response text.\u001b[39;00m\n\u001b[1;32m    927\u001b[0m \u001b[38;5;28;01mif\u001b[39;00m \u001b[38;5;129;01mnot\u001b[39;00m err\u001b[38;5;241m.\u001b[39mresponse\u001b[38;5;241m.\u001b[39mis_closed:\n",
      "File \u001b[0;32m/data/code/pycode/longshot-ai-assignment/longshotai/lib/python3.11/site-packages/openai/_base_client.py:958\u001b[0m, in \u001b[0;36mSyncAPIClient._retry_request\u001b[0;34m(self, options, cast_to, remaining_retries, response_headers, stream, stream_cls)\u001b[0m\n\u001b[1;32m    954\u001b[0m \u001b[38;5;66;03m# In a synchronous context we are blocking the entire thread. Up to the library user to run the client in a\u001b[39;00m\n\u001b[1;32m    955\u001b[0m \u001b[38;5;66;03m# different thread if necessary.\u001b[39;00m\n\u001b[1;32m    956\u001b[0m time\u001b[38;5;241m.\u001b[39msleep(timeout)\n\u001b[0;32m--> 958\u001b[0m \u001b[38;5;28;01mreturn\u001b[39;00m \u001b[38;5;28;43mself\u001b[39;49m\u001b[38;5;241;43m.\u001b[39;49m\u001b[43m_request\u001b[49m\u001b[43m(\u001b[49m\n\u001b[1;32m    959\u001b[0m \u001b[43m    \u001b[49m\u001b[43moptions\u001b[49m\u001b[38;5;241;43m=\u001b[39;49m\u001b[43moptions\u001b[49m\u001b[43m,\u001b[49m\n\u001b[1;32m    960\u001b[0m \u001b[43m    \u001b[49m\u001b[43mcast_to\u001b[49m\u001b[38;5;241;43m=\u001b[39;49m\u001b[43mcast_to\u001b[49m\u001b[43m,\u001b[49m\n\u001b[1;32m    961\u001b[0m \u001b[43m    \u001b[49m\u001b[43mremaining_retries\u001b[49m\u001b[38;5;241;43m=\u001b[39;49m\u001b[43mremaining\u001b[49m\u001b[43m,\u001b[49m\n\u001b[1;32m    962\u001b[0m \u001b[43m    \u001b[49m\u001b[43mstream\u001b[49m\u001b[38;5;241;43m=\u001b[39;49m\u001b[43mstream\u001b[49m\u001b[43m,\u001b[49m\n\u001b[1;32m    963\u001b[0m \u001b[43m    \u001b[49m\u001b[43mstream_cls\u001b[49m\u001b[38;5;241;43m=\u001b[39;49m\u001b[43mstream_cls\u001b[49m\u001b[43m,\u001b[49m\n\u001b[1;32m    964\u001b[0m \u001b[43m\u001b[49m\u001b[43m)\u001b[49m\n",
      "File \u001b[0;32m/data/code/pycode/longshot-ai-assignment/longshotai/lib/python3.11/site-packages/openai/_base_client.py:916\u001b[0m, in \u001b[0;36mSyncAPIClient._request\u001b[0;34m(self, cast_to, options, remaining_retries, stream, stream_cls)\u001b[0m\n\u001b[1;32m    914\u001b[0m \u001b[38;5;28;01mif\u001b[39;00m retries \u001b[38;5;241m>\u001b[39m \u001b[38;5;241m0\u001b[39m \u001b[38;5;129;01mand\u001b[39;00m \u001b[38;5;28mself\u001b[39m\u001b[38;5;241m.\u001b[39m_should_retry(err\u001b[38;5;241m.\u001b[39mresponse):\n\u001b[1;32m    915\u001b[0m     err\u001b[38;5;241m.\u001b[39mresponse\u001b[38;5;241m.\u001b[39mclose()\n\u001b[0;32m--> 916\u001b[0m     \u001b[38;5;28;01mreturn\u001b[39;00m \u001b[38;5;28;43mself\u001b[39;49m\u001b[38;5;241;43m.\u001b[39;49m\u001b[43m_retry_request\u001b[49m\u001b[43m(\u001b[49m\n\u001b[1;32m    917\u001b[0m \u001b[43m        \u001b[49m\u001b[43moptions\u001b[49m\u001b[43m,\u001b[49m\n\u001b[1;32m    918\u001b[0m \u001b[43m        \u001b[49m\u001b[43mcast_to\u001b[49m\u001b[43m,\u001b[49m\n\u001b[1;32m    919\u001b[0m \u001b[43m        \u001b[49m\u001b[43mretries\u001b[49m\u001b[43m,\u001b[49m\n\u001b[1;32m    920\u001b[0m \u001b[43m        \u001b[49m\u001b[43merr\u001b[49m\u001b[38;5;241;43m.\u001b[39;49m\u001b[43mresponse\u001b[49m\u001b[38;5;241;43m.\u001b[39;49m\u001b[43mheaders\u001b[49m\u001b[43m,\u001b[49m\n\u001b[1;32m    921\u001b[0m \u001b[43m        \u001b[49m\u001b[43mstream\u001b[49m\u001b[38;5;241;43m=\u001b[39;49m\u001b[43mstream\u001b[49m\u001b[43m,\u001b[49m\n\u001b[1;32m    922\u001b[0m \u001b[43m        \u001b[49m\u001b[43mstream_cls\u001b[49m\u001b[38;5;241;43m=\u001b[39;49m\u001b[43mstream_cls\u001b[49m\u001b[43m,\u001b[49m\n\u001b[1;32m    923\u001b[0m \u001b[43m    \u001b[49m\u001b[43m)\u001b[49m\n\u001b[1;32m    925\u001b[0m \u001b[38;5;66;03m# If the response is streamed then we need to explicitly read the response\u001b[39;00m\n\u001b[1;32m    926\u001b[0m \u001b[38;5;66;03m# to completion before attempting to access the response text.\u001b[39;00m\n\u001b[1;32m    927\u001b[0m \u001b[38;5;28;01mif\u001b[39;00m \u001b[38;5;129;01mnot\u001b[39;00m err\u001b[38;5;241m.\u001b[39mresponse\u001b[38;5;241m.\u001b[39mis_closed:\n",
      "File \u001b[0;32m/data/code/pycode/longshot-ai-assignment/longshotai/lib/python3.11/site-packages/openai/_base_client.py:958\u001b[0m, in \u001b[0;36mSyncAPIClient._retry_request\u001b[0;34m(self, options, cast_to, remaining_retries, response_headers, stream, stream_cls)\u001b[0m\n\u001b[1;32m    954\u001b[0m \u001b[38;5;66;03m# In a synchronous context we are blocking the entire thread. Up to the library user to run the client in a\u001b[39;00m\n\u001b[1;32m    955\u001b[0m \u001b[38;5;66;03m# different thread if necessary.\u001b[39;00m\n\u001b[1;32m    956\u001b[0m time\u001b[38;5;241m.\u001b[39msleep(timeout)\n\u001b[0;32m--> 958\u001b[0m \u001b[38;5;28;01mreturn\u001b[39;00m \u001b[38;5;28;43mself\u001b[39;49m\u001b[38;5;241;43m.\u001b[39;49m\u001b[43m_request\u001b[49m\u001b[43m(\u001b[49m\n\u001b[1;32m    959\u001b[0m \u001b[43m    \u001b[49m\u001b[43moptions\u001b[49m\u001b[38;5;241;43m=\u001b[39;49m\u001b[43moptions\u001b[49m\u001b[43m,\u001b[49m\n\u001b[1;32m    960\u001b[0m \u001b[43m    \u001b[49m\u001b[43mcast_to\u001b[49m\u001b[38;5;241;43m=\u001b[39;49m\u001b[43mcast_to\u001b[49m\u001b[43m,\u001b[49m\n\u001b[1;32m    961\u001b[0m \u001b[43m    \u001b[49m\u001b[43mremaining_retries\u001b[49m\u001b[38;5;241;43m=\u001b[39;49m\u001b[43mremaining\u001b[49m\u001b[43m,\u001b[49m\n\u001b[1;32m    962\u001b[0m \u001b[43m    \u001b[49m\u001b[43mstream\u001b[49m\u001b[38;5;241;43m=\u001b[39;49m\u001b[43mstream\u001b[49m\u001b[43m,\u001b[49m\n\u001b[1;32m    963\u001b[0m \u001b[43m    \u001b[49m\u001b[43mstream_cls\u001b[49m\u001b[38;5;241;43m=\u001b[39;49m\u001b[43mstream_cls\u001b[49m\u001b[43m,\u001b[49m\n\u001b[1;32m    964\u001b[0m \u001b[43m\u001b[49m\u001b[43m)\u001b[49m\n",
      "File \u001b[0;32m/data/code/pycode/longshot-ai-assignment/longshotai/lib/python3.11/site-packages/openai/_base_client.py:930\u001b[0m, in \u001b[0;36mSyncAPIClient._request\u001b[0;34m(self, cast_to, options, remaining_retries, stream, stream_cls)\u001b[0m\n\u001b[1;32m    927\u001b[0m     \u001b[38;5;28;01mif\u001b[39;00m \u001b[38;5;129;01mnot\u001b[39;00m err\u001b[38;5;241m.\u001b[39mresponse\u001b[38;5;241m.\u001b[39mis_closed:\n\u001b[1;32m    928\u001b[0m         err\u001b[38;5;241m.\u001b[39mresponse\u001b[38;5;241m.\u001b[39mread()\n\u001b[0;32m--> 930\u001b[0m     \u001b[38;5;28;01mraise\u001b[39;00m \u001b[38;5;28mself\u001b[39m\u001b[38;5;241m.\u001b[39m_make_status_error_from_response(err\u001b[38;5;241m.\u001b[39mresponse) \u001b[38;5;28;01mfrom\u001b[39;00m \u001b[38;5;28;01mNone\u001b[39;00m\n\u001b[1;32m    932\u001b[0m \u001b[38;5;28;01mreturn\u001b[39;00m \u001b[38;5;28mself\u001b[39m\u001b[38;5;241m.\u001b[39m_process_response(\n\u001b[1;32m    933\u001b[0m     cast_to\u001b[38;5;241m=\u001b[39mcast_to,\n\u001b[1;32m    934\u001b[0m     options\u001b[38;5;241m=\u001b[39moptions,\n\u001b[0;32m   (...)\u001b[0m\n\u001b[1;32m    937\u001b[0m     stream_cls\u001b[38;5;241m=\u001b[39mstream_cls,\n\u001b[1;32m    938\u001b[0m )\n",
      "\u001b[0;31mInternalServerError\u001b[0m: Error code: 500 - {'error': '(unknown path)\\n  Error: Unable to call `raise_exception`, which is undefined or falsey'}"
     ]
    }
   ],
   "source": [
    "html_chunks = utils.html_chunker(table_rows, chunk_size=4)\n",
    "html_input = utils.html_to_str(html_chunks[0])\n",
    "output = html_to_json_ai(\n",
    "    html_input,\n",
    "    model=\"togethercomputer/Llama-2-7B-32K-Instruct\",\n",
    "    json_format=json_format,\n",
    "    api_key=config[\"TOGETHERAI_API_KEY\"],\n",
    "    url=\"https://api.together.xyz\",\n",
    ")"
   ]
  },
  {
   "cell_type": "markdown",
   "metadata": {},
   "source": [
    "The one below works particulary well with just prompting!!!\n"
   ]
  },
  {
   "cell_type": "code",
   "execution_count": 42,
   "metadata": {},
   "outputs": [],
   "source": [
    "html_chunks = utils.html_chunker(table_rows, chunk_size=4)\n",
    "html_input = utils.html_to_str(html_chunks[0])\n",
    "output = html_to_json_ai(\n",
    "    html_input,\n",
    "    model=\"openchat/openchat-3.5-1210\",\n",
    "    json_format=json_format,\n",
    "    api_key=config[\"TOGETHERAI_API_KEY\"],\n",
    "    url=\"https://api.together.xyz\",\n",
    ")"
   ]
  },
  {
   "cell_type": "code",
   "execution_count": 43,
   "metadata": {},
   "outputs": [
    {
     "name": "stdout",
     "output_type": "stream",
     "text": [
      "Based on the provided HTML and the specified JSON format, here's the converted JSON:\n",
      "```json\n",
      "{\n",
      "    \"items\": [\n",
      "        {\n",
      "            \"weekend_end_date\": \"January 8, 2023\",\n",
      "            \"film\": \"Avatar: The Way of Water\",\n",
      "            \"gross\": \"$45,838,986\",\n",
      "            \"notes\": \"Black Panther: Wakanda Forever and Avatar: The Way of Water became the first two films to consecutively top the box office for four consecutive weekends each since The Hunger Games: Mockingjay – Part 2 and Star Wars: The Force Awakens in 2015 and 2016.\"\n",
      "        },\n",
      "        {\n",
      "            \"weekend_end_date\": \"January 15, 2023\",\n",
      "            \"film\": \"Avatar: The Way of Water\",\n",
      "            \"gross\": \"$32,824,684\",\n",
      "            \"notes\": \"Black Panther: Wakanda Forever and Avatar: The Way of Water became the first two films to consecutively top the box office for five consecutive weekends each since Stakeout and Fatal Attraction in 1987.\"\n",
      "        },\n",
      "        {\n",
      "            \"weekend_end_date\": \"January 22, 2023\",\n",
      "            \"film\": \"Avatar: The Way of Water\",\n",
      "            \"gross\": \"$20,133,106\",\n",
      "            \"notes\": \"Avatar: The Way of Water became the first film since Avatar to top the box office for six consecutive weekends. It also became the first film since Spider-Man: No Way Home to top the box office in its sixth week of release, as well as for six total weekends. During the weekend, the film surpassed $2 billion at the global box office.\"\n",
      "        },\n",
      "        {\n",
      "            \"weekend_end_date\": \"January 29, 2023\",\n",
      "            \"film\": \"Avatar: The Way of Water\",\n",
      "            \"gross\": \"$15,968,532\",\n",
      "            \"notes\": \"Avatar: The Way of Water became the first film since Avatar to top the box office for seven consecutive weekends, as well as the first film since Spider-Man: No Way Home to top the box office in its seventh week of release.\"\n",
      "        }\n",
      "    ]\n",
      "}\n",
      "```\n"
     ]
    }
   ],
   "source": [
    "print(output.choices[0].message.content)"
   ]
  }
 ],
 "metadata": {
  "kernelspec": {
   "display_name": "longshotai",
   "language": "python",
   "name": "python3"
  },
  "language_info": {
   "codemirror_mode": {
    "name": "ipython",
    "version": 3
   },
   "file_extension": ".py",
   "mimetype": "text/x-python",
   "name": "python",
   "nbconvert_exporter": "python",
   "pygments_lexer": "ipython3",
   "version": "3.11.6"
  }
 },
 "nbformat": 4,
 "nbformat_minor": 2
}
