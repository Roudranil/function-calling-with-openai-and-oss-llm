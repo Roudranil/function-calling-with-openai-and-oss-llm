{
 "cells": [
  {
   "cell_type": "markdown",
   "metadata": {},
   "source": [
    "# Imports\n"
   ]
  },
  {
   "cell_type": "code",
   "execution_count": 1,
   "metadata": {},
   "outputs": [],
   "source": [
    "from scraper import Scraper\n",
    "from schema import Schema\n",
    "import utils\n",
    "from dotenv import dotenv_values\n",
    "\n",
    "config = dotenv_values(\"../.env\")"
   ]
  },
  {
   "cell_type": "code",
   "execution_count": 2,
   "metadata": {},
   "outputs": [],
   "source": [
    "from pydantic import BaseModel, Field\n",
    "from typing import List\n",
    "\n",
    "import openai\n",
    "import json\n",
    "import time"
   ]
  },
  {
   "cell_type": "code",
   "execution_count": 3,
   "metadata": {},
   "outputs": [],
   "source": [
    "scraper = Scraper(config[\"URL\"])\n",
    "table_rows = scraper.get_table()"
   ]
  },
  {
   "cell_type": "markdown",
   "metadata": {},
   "source": [
    "# Pydantic schemas\n"
   ]
  },
  {
   "cell_type": "code",
   "execution_count": 4,
   "metadata": {},
   "outputs": [],
   "source": [
    "class MovieItem(Schema):\n",
    "    \"\"\"\n",
    "    class representing the entry of the highest grossing movie at the box office in any week of 2023 along the grossing amount and some remarks\n",
    "    \"\"\"\n",
    "\n",
    "    weekend_end_date: str = Field(\n",
    "        ...,\n",
    "        alias=\"Weekend end date\",\n",
    "        description=\"Stores the last date of the week in the year 2023\",\n",
    "    )\n",
    "    film: str = Field(..., alias=\"Film\", description=\"Name of the movie\")\n",
    "    gross: str = Field(\n",
    "        ..., alias=\"Gross\", description=\"Gross income of the movie in the given weekend\"\n",
    "    )\n",
    "    notes: str = Field(..., alias=\"Notes\", description=\"Some notes about the movie\")\n",
    "\n",
    "\n",
    "class BoxOffice(Schema):\n",
    "    \"\"\"Class representing the list of the highest grossing movies per weekend of 2023\"\"\"\n",
    "\n",
    "    items: List[MovieItem] = Field(\n",
    "        ..., description=\"List of the highest grossing movies each weekend of 2023\"\n",
    "    )"
   ]
  },
  {
   "cell_type": "markdown",
   "metadata": {},
   "source": [
    "# Query OpenAI API\n"
   ]
  },
  {
   "cell_type": "code",
   "execution_count": 14,
   "metadata": {},
   "outputs": [],
   "source": [
    "def html_to_json_ai(data: str) -> BoxOffice:\n",
    "    client = openai.OpenAI(\n",
    "        api_key=config[\"OPENAI_AI_KEY\"],\n",
    "    )\n",
    "    completion = client.chat.completions.create(\n",
    "        model=\"gpt-3.5-turbo\",\n",
    "        messages=[\n",
    "            {\n",
    "                \"role\": \"system\",\n",
    "                \"content\": \"You are a world class algorithm to convert html to structured data\",\n",
    "            },\n",
    "            {\n",
    "                \"role\": \"user\",\n",
    "                \"content\": f\"Convert the following HTML string to structured data as per given format\",\n",
    "            },\n",
    "            {\"role\": \"user\", \"content\": f\"HTML input: ```{data}```\"},\n",
    "            {\n",
    "                \"role\": \"user\",\n",
    "                \"content\": \"Tips: Make sure to pay attention to the attributes of the HTML tags, especialy the rowspan attributes\",\n",
    "            },\n",
    "        ],\n",
    "        temperature=0.2,\n",
    "        functions=[BoxOffice.custom_schema],\n",
    "        function_call={\"name\": BoxOffice.custom_schema[\"name\"]},\n",
    "    )\n",
    "    input_tokens = completion.usage.prompt_tokens\n",
    "    output_tokens = completion.usage.completion_tokens\n",
    "\n",
    "    input_charge = (input_tokens / 1000) * 0.0010\n",
    "    output_charge = (output_tokens / 1000) * 0.0020\n",
    "\n",
    "    print(\n",
    "        f\"Token counts:\\nInput tokens = {input_tokens}\\nOutput tokens = {output_tokens}\\nTotal tokens = {input_tokens + output_tokens}\\n\"\n",
    "    )\n",
    "    print(\n",
    "        f\"Charge:\\nInput charge = ${input_charge}\\nOutput charge = ${output_charge}\\nTotal charge ${input_charge + output_charge}\"\n",
    "    )\n",
    "    return BoxOffice.from_response(completion).model_dump_json()"
   ]
  },
  {
   "cell_type": "code",
   "execution_count": 6,
   "metadata": {},
   "outputs": [],
   "source": [
    "html_chunks = utils.html_chunker(table_rows, chunk_size=4)"
   ]
  },
  {
   "cell_type": "code",
   "execution_count": 9,
   "metadata": {},
   "outputs": [],
   "source": [
    "html_input = utils.html_to_str(html_chunks[0])"
   ]
  },
  {
   "cell_type": "code",
   "execution_count": 11,
   "metadata": {},
   "outputs": [
    {
     "name": "stdout",
     "output_type": "stream",
     "text": [
      "Token counts:\n",
      "Input tokens = 637\n",
      "Output tokens = 426\n",
      "Total tokens = 1063\n",
      "Charge:\n",
      "Input charge = $0.000637\n",
      "Output charge = $0.000852\n",
      "Total charge $0.0014889999999999999\n"
     ]
    }
   ],
   "source": [
    "output = html_to_json_ai(html_input)"
   ]
  },
  {
   "cell_type": "code",
   "execution_count": 12,
   "metadata": {},
   "outputs": [
    {
     "name": "stdout",
     "output_type": "stream",
     "text": [
      "{\n",
      "    \"items\": [\n",
      "        {\n",
      "            \"weekend_end_date\": \"January 8, 2023\",\n",
      "            \"film\": \"Avatar: The Way of Water\",\n",
      "            \"gross\": \"$45,838,986\",\n",
      "            \"notes\": \"Black Panther: Wakanda Forever and Avatar: The Way of Water became the first two films to consecutively top the box office for four consecutive weekends each since The Hunger Games: Mockingjay \\u2013 Part 2 and Star Wars: The Force Awakens in 2015 and 2016.\"\n",
      "        },\n",
      "        {\n",
      "            \"weekend_end_date\": \"January 15, 2023\",\n",
      "            \"film\": \"Avatar: The Way of Water\",\n",
      "            \"gross\": \"$32,824,684\",\n",
      "            \"notes\": \"Black Panther: Wakanda Forever and Avatar: The Way of Water became the first two films to consecutively top the box office for five consecutive weekends each since Stakeout and Fatal Attraction in 1987.\"\n",
      "        },\n",
      "        {\n",
      "            \"weekend_end_date\": \"January 22, 2023\",\n",
      "            \"film\": \"Avatar: The Way of Water\",\n",
      "            \"gross\": \"$20,133,106\",\n",
      "            \"notes\": \"Avatar: The Way of Water became the first film since Avatar to top the box office for six consecutive weekends. It also became the first film since Spider-Man: No Way Home to top the box office in its sixth week of release, as well as for six total weekends. During the weekend, the film surpassed $2 billion at the global box office.\"\n",
      "        },\n",
      "        {\n",
      "            \"weekend_end_date\": \"January 29, 2023\",\n",
      "            \"film\": \"Avatar: The Way of Water\",\n",
      "            \"gross\": \"$15,968,532\",\n",
      "            \"notes\": \"Avatar: The Way of Water became the first film since Avatar to top the box office for seven consecutive weekends, as well as the first film since Spider-Man: No Way Home to top the box office in its seventh week of release.\"\n",
      "        }\n",
      "    ]\n",
      "}\n"
     ]
    }
   ],
   "source": [
    "print(json.dumps(json.loads(output), indent=4))"
   ]
  },
  {
   "cell_type": "markdown",
   "metadata": {},
   "source": [
    "# Total output\n"
   ]
  },
  {
   "cell_type": "code",
   "execution_count": null,
   "metadata": {},
   "outputs": [],
   "source": [
    "html_chunks = utils.html_chunker(table_rows)\n",
    "for i, chunk in enumerate(html_chunks):\n",
    "    html_input = utils.html_to_str(chunk)\n",
    "    print(f\"\\nChunk {i}\")\n",
    "    output = html_to_json_ai(html_input)\n",
    "    utils.save_json(output, filepath=f\"../chunk-{i}.json\")\n",
    "    time.sleep(30)"
   ]
  }
 ],
 "metadata": {
  "kernelspec": {
   "display_name": "longshotai",
   "language": "python",
   "name": "python3"
  },
  "language_info": {
   "codemirror_mode": {
    "name": "ipython",
    "version": 3
   },
   "file_extension": ".py",
   "mimetype": "text/x-python",
   "name": "python",
   "nbconvert_exporter": "python",
   "pygments_lexer": "ipython3",
   "version": "3.11.6"
  }
 },
 "nbformat": 4,
 "nbformat_minor": 2
}
