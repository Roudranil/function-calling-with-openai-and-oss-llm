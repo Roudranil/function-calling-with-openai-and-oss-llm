{
 "cells": [
  {
   "cell_type": "markdown",
   "metadata": {},
   "source": [
    "# Imports\n"
   ]
  },
  {
   "cell_type": "code",
   "execution_count": 2,
   "metadata": {},
   "outputs": [],
   "source": [
    "from scraper import Scraper\n",
    "from schema import Schema\n",
    "import utils\n",
    "from tqdm import tqdm\n",
    "from dotenv import dotenv_values\n",
    "\n",
    "config = dotenv_values(\"../.env\")"
   ]
  },
  {
   "cell_type": "code",
   "execution_count": 3,
   "metadata": {},
   "outputs": [],
   "source": [
    "from pydantic import BaseModel, Field, field_validator\n",
    "from typing import List\n",
    "\n",
    "import openai\n",
    "import json\n",
    "import time\n",
    "from datetime import datetime"
   ]
  },
  {
   "cell_type": "code",
   "execution_count": 4,
   "metadata": {},
   "outputs": [],
   "source": [
    "scraper = Scraper(config[\"URL\"])\n",
    "table_rows = scraper.get_table()"
   ]
  },
  {
   "cell_type": "markdown",
   "metadata": {},
   "source": [
    "# Pydantic schemas\n"
   ]
  },
  {
   "cell_type": "code",
   "execution_count": 5,
   "metadata": {},
   "outputs": [],
   "source": [
    "class MovieItem(Schema):\n",
    "    \"\"\"\n",
    "    class representing the entry of the highest grossing movie at the box office in any week of 2023 along the grossing amount and some remarks\n",
    "    \"\"\"\n",
    "\n",
    "    weekend_end_date: str = Field(\n",
    "        ...,\n",
    "        alias=\"Weekend end date\",\n",
    "        description=\"Stores the last date of the week in the year 2023\",\n",
    "    )\n",
    "    film: str = Field(..., alias=\"Film\", description=\"Name of the movie\")\n",
    "    gross: str = Field(\n",
    "        ..., alias=\"Gross\", description=\"Gross income of the movie in the given weekend\"\n",
    "    )\n",
    "    notes: str = Field(..., alias=\"Notes\", description=\"Some notes about the movie\")\n",
    "\n",
    "\n",
    "class BoxOffice(Schema):\n",
    "    \"\"\"Class representing the list of the highest grossing movies per weekend of 2023\"\"\"\n",
    "\n",
    "    items: List[MovieItem] = Field(\n",
    "        ..., description=\"List of the highest grossing movies each weekend of 2023\"\n",
    "    )"
   ]
  },
  {
   "cell_type": "markdown",
   "metadata": {},
   "source": [
    "# Query OpenAI API\n"
   ]
  },
  {
   "cell_type": "code",
   "execution_count": 14,
   "metadata": {},
   "outputs": [],
   "source": [
    "def html_to_json_ai(\n",
    "    data: str, model: str, api_key: str, url: str | None = None\n",
    ") -> dict:\n",
    "    \"\"\"\n",
    "    Function to convert the given raw HTML string into structured JSON object following a predefined schema\n",
    "    by calling llm using api keys\n",
    "\n",
    "    Parameters:\n",
    "    - data (str):       the raw string containing the html input\n",
    "    - model (str):      the name of the model endpoint to be called\n",
    "    - api_key (str):    the api key used for calling the server endpoint\n",
    "    - url (str | None): the base url used to make the query\n",
    "                        default: None\n",
    "\n",
    "    Output:\n",
    "    json dumped from the BoxOffice object after parsing the model response in the needed format\n",
    "    \"\"\"\n",
    "    client = openai.OpenAI(api_key=api_key, base_url=url)\n",
    "    completion = client.chat.completions.create(\n",
    "        model=model,\n",
    "        messages=[\n",
    "            {\n",
    "                \"role\": \"system\",\n",
    "                \"content\": \"You are a world class algorithm to convert html to structured data\",\n",
    "            },\n",
    "            {\n",
    "                \"role\": \"user\",\n",
    "                \"content\": f\"Convert the following HTML string to structured data as per given format\",\n",
    "            },\n",
    "            {\"role\": \"user\", \"content\": f\"HTML input: ```{data}```\"},\n",
    "            {\n",
    "                \"role\": \"user\",\n",
    "                \"content\": \"Tips: Make sure to pay attention to the attributes of the HTML tags, especialy the rowspan attributes\",\n",
    "            },\n",
    "        ],\n",
    "        temperature=0.2,\n",
    "        functions=[BoxOffice.custom_schema],\n",
    "        function_call={\"name\": BoxOffice.custom_schema[\"name\"]},\n",
    "    )\n",
    "    input_tokens = completion.usage.prompt_tokens\n",
    "    output_tokens = completion.usage.completion_tokens\n",
    "\n",
    "    input_charge = (input_tokens / 1000) * 0.0010\n",
    "    output_charge = (output_tokens / 1000) * 0.0020\n",
    "\n",
    "    print(\n",
    "        f\"Token counts:\\nInput tokens = {input_tokens}\\nOutput tokens = {output_tokens}\\nTotal tokens = {input_tokens + output_tokens}\\n\"\n",
    "    )\n",
    "    # Charges as per OpenAI pricing\n",
    "    print(\n",
    "        f\"Charge:\\nInput charge = ${input_charge}\\nOutput charge = ${output_charge}\\nTotal charge ${input_charge + output_charge}\"\n",
    "    )\n",
    "    return BoxOffice.from_response(completion).model_dump_json()"
   ]
  },
  {
   "cell_type": "markdown",
   "metadata": {},
   "source": [
    "# Results with `GPT-3.5-turbo`\n"
   ]
  },
  {
   "cell_type": "code",
   "execution_count": 15,
   "metadata": {},
   "outputs": [
    {
     "name": "stdout",
     "output_type": "stream",
     "text": [
      "Token counts:\n",
      "Input tokens = 637\n",
      "Output tokens = 426\n",
      "Total tokens = 1063\n",
      "\n",
      "Charge:\n",
      "Input charge = $0.000637\n",
      "Output charge = $0.000852\n",
      "Total charge $0.0014889999999999999\n"
     ]
    }
   ],
   "source": [
    "html_chunks = utils.html_chunker(table_rows, chunk_size=4)\n",
    "html_input = utils.html_to_str(html_chunks[0])\n",
    "output = html_to_json_ai(\n",
    "    html_input, model=\"gpt-3.5-turbo\", api_key=config[\"OPENAI_API_KEY\"]\n",
    ")"
   ]
  },
  {
   "cell_type": "code",
   "execution_count": 16,
   "metadata": {},
   "outputs": [
    {
     "name": "stdout",
     "output_type": "stream",
     "text": [
      "{\n",
      "    \"items\": [\n",
      "        {\n",
      "            \"weekend_end_date\": \"January 8, 2023\",\n",
      "            \"film\": \"Avatar: The Way of Water\",\n",
      "            \"gross\": \"$45,838,986\",\n",
      "            \"notes\": \"Black Panther: Wakanda Forever and Avatar: The Way of Water became the first two films to consecutively top the box office for four consecutive weekends each since The Hunger Games: Mockingjay \\u2013 Part 2 and Star Wars: The Force Awakens in 2015 and 2016.\"\n",
      "        },\n",
      "        {\n",
      "            \"weekend_end_date\": \"January 15, 2023\",\n",
      "            \"film\": \"Avatar: The Way of Water\",\n",
      "            \"gross\": \"$32,824,684\",\n",
      "            \"notes\": \"Black Panther: Wakanda Forever and Avatar: The Way of Water became the first two films to consecutively top the box office for five consecutive weekends each since Stakeout and Fatal Attraction in 1987.\"\n",
      "        },\n",
      "        {\n",
      "            \"weekend_end_date\": \"January 22, 2023\",\n",
      "            \"film\": \"Avatar: The Way of Water\",\n",
      "            \"gross\": \"$20,133,106\",\n",
      "            \"notes\": \"Avatar: The Way of Water became the first film since Avatar to top the box office for six consecutive weekends. It also became the first film since Spider-Man: No Way Home to top the box office in its sixth week of release, as well as for six total weekends. During the weekend, the film surpassed $2 billion at the global box office.\"\n",
      "        },\n",
      "        {\n",
      "            \"weekend_end_date\": \"January 29, 2023\",\n",
      "            \"film\": \"Avatar: The Way of Water\",\n",
      "            \"gross\": \"$15,968,532\",\n",
      "            \"notes\": \"Avatar: The Way of Water became the first film since Avatar to top the box office for seven consecutive weekends, as well as the first film since Spider-Man: No Way Home to top the box office in its seventh week of release.\"\n",
      "        }\n",
      "    ]\n",
      "}\n"
     ]
    }
   ],
   "source": [
    "print(json.dumps(json.loads(output), indent=4))"
   ]
  },
  {
   "cell_type": "markdown",
   "metadata": {},
   "source": [
    "## Total output\n"
   ]
  },
  {
   "cell_type": "code",
   "execution_count": 6,
   "metadata": {},
   "outputs": [
    {
     "name": "stdout",
     "output_type": "stream",
     "text": [
      "\n",
      "Chunk 0\n",
      "Token counts:\n",
      "Input tokens = 997\n",
      "Output tokens = 769\n",
      "Total tokens = 1766\n",
      "\n",
      "Charge:\n",
      "Input charge = $0.000997\n",
      "Output charge = $0.001538\n",
      "Total charge $0.002535\n",
      "\n",
      "Chunk 1\n",
      "Token counts:\n",
      "Input tokens = 1012\n",
      "Output tokens = 785\n",
      "Total tokens = 1797\n",
      "\n",
      "Charge:\n",
      "Input charge = $0.001012\n",
      "Output charge = $0.00157\n",
      "Total charge $0.002582\n",
      "\n",
      "Chunk 2\n",
      "Token counts:\n",
      "Input tokens = 935\n",
      "Output tokens = 670\n",
      "Total tokens = 1605\n",
      "\n",
      "Charge:\n",
      "Input charge = $0.0009350000000000001\n",
      "Output charge = $0.00134\n",
      "Total charge $0.002275\n",
      "\n",
      "Chunk 3\n",
      "Token counts:\n",
      "Input tokens = 804\n",
      "Output tokens = 558\n",
      "Total tokens = 1362\n",
      "\n",
      "Charge:\n",
      "Input charge = $0.000804\n",
      "Output charge = $0.001116\n",
      "Total charge $0.00192\n",
      "\n",
      "Chunk 4\n",
      "Token counts:\n",
      "Input tokens = 887\n",
      "Output tokens = 655\n",
      "Total tokens = 1542\n",
      "\n",
      "Charge:\n",
      "Input charge = $0.000887\n",
      "Output charge = $0.0013100000000000002\n",
      "Total charge $0.002197\n"
     ]
    }
   ],
   "source": [
    "html_chunks = utils.html_chunker(table_rows)\n",
    "for i, chunk in enumerate(html_chunks):\n",
    "    html_input = utils.html_to_str(chunk)\n",
    "    print(f\"\\nChunk {i}\")\n",
    "    output = html_to_json_ai(\n",
    "        html_input, model=\"gpt-3.5-turbo\", api_key=config[\"OPENAI_API_KEY\"]\n",
    "    )\n",
    "    utils.save_json(output, filepath=f\"../chunk-{i}.json\")\n",
    "    time.sleep(30)"
   ]
  },
  {
   "cell_type": "code",
   "execution_count": 8,
   "metadata": {},
   "outputs": [
    {
     "name": "stderr",
     "output_type": "stream",
     "text": [
      "100%|██████████| 5/5 [00:00<00:00, 592.82it/s]\n"
     ]
    }
   ],
   "source": [
    "chunk_filepaths = [f\"../chunk-{i}.json\" for i in range(5)]\n",
    "combined_output = {\"items\": []}\n",
    "for fp in tqdm(chunk_filepaths):\n",
    "    f = open(fp, \"r\")\n",
    "    chunk_output = json.load(f)\n",
    "    combined_output[\"items\"].extend(chunk_output[\"items\"])"
   ]
  },
  {
   "cell_type": "code",
   "execution_count": 10,
   "metadata": {},
   "outputs": [],
   "source": [
    "with open(\"../combined-output.json\", \"w\") as f:\n",
    "    json.dump(combined_output, f, indent=4)"
   ]
  },
  {
   "cell_type": "markdown",
   "metadata": {},
   "source": [
    "## Querying by date\n"
   ]
  },
  {
   "cell_type": "markdown",
   "metadata": {},
   "source": [
    "Say for example i want only those movies that were the highest grossing in November\n"
   ]
  },
  {
   "cell_type": "code",
   "execution_count": 28,
   "metadata": {},
   "outputs": [],
   "source": [
    "def html_to_json_ai(\n",
    "    data: str, model: str, api_key: str, url: str | None = None\n",
    ") -> dict:\n",
    "    \"\"\"\n",
    "    Function to convert the given raw HTML string into structured JSON object following a predefined schema\n",
    "    by calling llm using api keys\n",
    "\n",
    "    Parameters:\n",
    "    - data (str):       the raw string containing the html input\n",
    "    - model (str):      the name of the model endpoint to be called\n",
    "    - api_key (str):    the api key used for calling the server endpoint\n",
    "    - url (str | None): the base url used to make the query\n",
    "                        default: None\n",
    "\n",
    "    Output:\n",
    "    json dumped from the BoxOffice object after parsing the model response in the needed format\n",
    "    \"\"\"\n",
    "    client = openai.OpenAI(api_key=api_key, base_url=url)\n",
    "    completion = client.chat.completions.create(\n",
    "        model=model,\n",
    "        messages=[\n",
    "            {\n",
    "                \"role\": \"system\",\n",
    "                \"content\": \"You are a world class algorithm to convert html to structured data\",\n",
    "            },\n",
    "            {\n",
    "                \"role\": \"user\",\n",
    "                \"content\": f\"Convert rows in given HTML corresponding to only the MONTH of NOVEMBER to the specified JSON\",\n",
    "            },\n",
    "            {\"role\": \"user\", \"content\": f\"HTML input: ```{data}```\"},\n",
    "            # {\n",
    "            #     \"role\": \"user\",\n",
    "            #     \"content\": \"Tips: Make sure to pay attention to the attributes of the HTML tags, especialy the rowspan attributes\",\n",
    "            # },\n",
    "            # {\"role\": \"user\", \"content\": \"Tips: pay attention to the dates\"},\n",
    "        ],\n",
    "        temperature=0.2,\n",
    "        functions=[BoxOffice.custom_schema],\n",
    "        function_call={\"name\": BoxOffice.custom_schema[\"name\"]},\n",
    "    )\n",
    "    input_tokens = completion.usage.prompt_tokens\n",
    "    output_tokens = completion.usage.completion_tokens\n",
    "\n",
    "    input_charge = (input_tokens / 1000) * 0.0010\n",
    "    output_charge = (output_tokens / 1000) * 0.0020\n",
    "\n",
    "    print(\n",
    "        f\"Token counts:\\nInput tokens = {input_tokens}\\nOutput tokens = {output_tokens}\\nTotal tokens = {input_tokens + output_tokens}\\n\"\n",
    "    )\n",
    "    # Charges as per OpenAI pricing\n",
    "    print(\n",
    "        f\"Charge:\\nInput charge = ${input_charge}\\nOutput charge = ${output_charge}\\nTotal charge ${input_charge + output_charge}\"\n",
    "    )\n",
    "    return BoxOffice.from_response(completion).model_dump_json()"
   ]
  },
  {
   "cell_type": "code",
   "execution_count": 29,
   "metadata": {},
   "outputs": [],
   "source": [
    "html_input = utils.html_to_str(table_rows)"
   ]
  },
  {
   "cell_type": "code",
   "execution_count": 30,
   "metadata": {},
   "outputs": [
    {
     "name": "stdout",
     "output_type": "stream",
     "text": [
      "Token counts:\n",
      "Input tokens = 3697\n",
      "Output tokens = 215\n",
      "Total tokens = 3912\n",
      "\n",
      "Charge:\n",
      "Input charge = $0.003697\n",
      "Output charge = $0.00043\n",
      "Total charge $0.0041270000000000005\n"
     ]
    }
   ],
   "source": [
    "output = html_to_json_ai(\n",
    "    html_input, model=\"gpt-3.5-turbo\", api_key=config[\"OPENAI_API_KEY\"]\n",
    ")"
   ]
  },
  {
   "cell_type": "markdown",
   "metadata": {},
   "source": [
    "We are dangerously close to the maximum token length of 4096\n"
   ]
  },
  {
   "cell_type": "code",
   "execution_count": 31,
   "metadata": {},
   "outputs": [
    {
     "name": "stdout",
     "output_type": "stream",
     "text": [
      "{\n",
      "    \"items\": [\n",
      "        {\n",
      "            \"weekend_end_date\": \"November 5, 2023\",\n",
      "            \"film\": \"Five Nights at Freddy's\",\n",
      "            \"gross\": \"$19,001,870\",\n",
      "            \"notes\": \"\"\n",
      "        },\n",
      "        {\n",
      "            \"weekend_end_date\": \"November 12, 2023\",\n",
      "            \"film\": \"The Marvels\",\n",
      "            \"gross\": \"$46,110,859\",\n",
      "            \"notes\": \"\"\n",
      "        },\n",
      "        {\n",
      "            \"weekend_end_date\": \"November 19, 2023\",\n",
      "            \"film\": \"The Hunger Games: The Ballad of Songbirds & Snakes\",\n",
      "            \"gross\": \"$44,607,143\",\n",
      "            \"notes\": \"\"\n",
      "        },\n",
      "        {\n",
      "            \"weekend_end_date\": \"November 26, 2023\",\n",
      "            \"film\": \"The Hunger Games: The Ballad of Songbirds & Snakes\",\n",
      "            \"gross\": \"$29,042,517\",\n",
      "            \"notes\": \"\"\n",
      "        }\n",
      "    ]\n",
      "}\n"
     ]
    }
   ],
   "source": [
    "print(json.dumps(json.loads(output), indent=4))"
   ]
  },
  {
   "cell_type": "markdown",
   "metadata": {},
   "source": [
    "# Trying with `mistral` and `llama` from [Anyscale](https://www.anyscale.com/)\n"
   ]
  },
  {
   "cell_type": "code",
   "execution_count": 17,
   "metadata": {},
   "outputs": [],
   "source": [
    "def html_to_json_ai(\n",
    "    data: str, model: str, api_key: str, url: str | None = None\n",
    ") -> dict:\n",
    "    \"\"\"\n",
    "    Function to convert the given raw HTML string into structured JSON object following a predefined schema\n",
    "    by calling llm using api keys\n",
    "\n",
    "    Parameters:\n",
    "    - data (str):       the raw string containing the html input\n",
    "    - model (str):      the name of the model endpoint to be called\n",
    "    - api_key (str):    the api key used for calling the server endpoint\n",
    "    - url (str | None): the base url used to make the query\n",
    "                        default: None\n",
    "\n",
    "    Output:\n",
    "    json dumped from the BoxOffice object after parsing the model response in the needed format\n",
    "    \"\"\"\n",
    "    client = openai.OpenAI(api_key=api_key, base_url=url)\n",
    "    completion = client.chat.completions.create(\n",
    "        model=model,\n",
    "        messages=[\n",
    "            {\n",
    "                \"role\": \"system\",\n",
    "                \"content\": \"You are a world class algorithm to convert html to structured data\",\n",
    "            },\n",
    "            {\n",
    "                \"role\": \"user\",\n",
    "                \"content\": f\"Convert rows in given HTML to the specified JSON for only the month of February.\",\n",
    "            },\n",
    "            {\"role\": \"user\", \"content\": f\"HTML input: ```{data}```\"},\n",
    "            # {\n",
    "            #     \"role\": \"user\",\n",
    "            #     \"content\": \"Tips: Make sure to pay attention to the attributes of the HTML tags, especialy the rowspan attributes\",\n",
    "            # },\n",
    "            # {\"role\": \"user\", \"content\": \"Tips: pay attention to the dates\"},\n",
    "        ],\n",
    "        temperature=0.2,\n",
    "        response_format={\n",
    "            \"type\": \"json_object\",\n",
    "            \"schema\": BoxOffice.model_json_schema(),\n",
    "        },\n",
    "    )\n",
    "    try:\n",
    "        return json.loads(completion.choices[0].message.content)\n",
    "    except:\n",
    "        print(completion.choices[0].message.content)"
   ]
  },
  {
   "cell_type": "markdown",
   "metadata": {},
   "source": [
    "First with mistral for a subset of rows\n"
   ]
  },
  {
   "cell_type": "code",
   "execution_count": 9,
   "metadata": {},
   "outputs": [
    {
     "name": "stdout",
     "output_type": "stream",
     "text": [
      "{\n",
      "    \"items\": [\n",
      "        {\n",
      "            \"Weekend end date\": \"January 8, 2023\",\n",
      "            \"Film\": \"Avatar: The Way of Water\",\n",
      "            \"Gross\": \"$45,838,986\",\n",
      "            \"Notes\": \"Black Panther: Wakanda Forever and Avatar: The Way of Water became the first two films to consecutively top the box office for four consecutive weekends each since The Hunger Games: Mockingjay \\u2013 Part 2 and Star Wars: The Force Awakens in 2015 and 2016.\"\n",
      "        },\n",
      "        {\n",
      "            \"Weekend end date\": \"January 15, 2023\",\n",
      "            \"Film\": \"Avatar: The Way of Water\",\n",
      "            \"Gross\": \"$32,824,684\",\n",
      "            \"Notes\": \"Black Panther: Wakanda Forever and Avatar: The Way of Water became the first two films to consecutively top the box office for five consecutive weekends each since Stakeout and Fatal Attraction in 1987.\"\n",
      "        },\n",
      "        {\n",
      "            \"Weekend end date\": \"January 22, 2023\",\n",
      "            \"Film\": \"Avatar: The Way of Water\",\n",
      "            \"Gross\": \"$20,133,106\",\n",
      "            \"Notes\": \"Avatar: The Way of Water became the first film since Avatar to top the box office for six consecutive weekends. It also became the first film since Spider-Man: No Way Home to top the box office in its sixth week of release, as well as for six total weekends. During the weekend, the film surpassed $2 billion at the global box office.\"\n",
      "        },\n",
      "        {\n",
      "            \"Weekend end date\": \"January 29, 2023\",\n",
      "            \"Film\": \"Avatar: The Way of Water\",\n",
      "            \"Gross\": \"$15,968,532\",\n",
      "            \"Notes\": \"Avatar: The Way of Water became the first film since Avatar to top the box office for seven consecutive weekends, as well as the first film since Spider-Man: No Way Home to top the box office in its seventh week of release.\"\n",
      "        }\n",
      "    ]\n",
      "}\n"
     ]
    }
   ],
   "source": [
    "html_chunks = utils.html_chunker(table_rows, chunk_size=4)\n",
    "html_input = utils.html_to_str(html_chunks[0])\n",
    "output = html_to_json_ai(\n",
    "    html_input,\n",
    "    model=\"mistralai/Mistral-7B-Instruct-v0.1\",\n",
    "    api_key=config[\"ANYSCALE_API_KEY\"],\n",
    "    url=\"https://api.endpoints.anyscale.com/v1\",\n",
    ")\n",
    "print(json.dumps(output, indent=4))"
   ]
  },
  {
   "cell_type": "markdown",
   "metadata": {},
   "source": [
    "Then with llama to demo querying by date\n"
   ]
  },
  {
   "cell_type": "code",
   "execution_count": 18,
   "metadata": {},
   "outputs": [
    {
     "name": "stdout",
     "output_type": "stream",
     "text": [
      "  Sure! Here is the JSON output for only the month of February:\n",
      "```json\n",
      "[\n",
      "  {\n",
      "    \"week\": \"February 5\",\n",
      "    \"gross\": \"14,127,170\",\n",
      "    \"film\": \"Knock at the Cabin\"\n",
      "  },\n",
      "  {\n",
      "    \"week\": \"February 12\",\n",
      "    \"gross\": \"8,305,317\",\n",
      "    \"film\": \"Magic Mike's Last Dance\"\n",
      "  },\n",
      "  {\n",
      "    \"week\": \"February 19\",\n",
      "    \"gross\": \"106,109,650\",\n",
      "    \"film\": \"Ant-Man and the Wasp: Quantumania\"\n",
      "  },\n",
      "  {\n",
      "    \"week\": \"February 26\",\n",
      "    \"gross\": \"31,964,803\",\n",
      "    \"film\": \"Ant-Man and the Wasp: Quantumania\"\n",
      "  }\n",
      "]\n",
      "```\n",
      "Note that I have only included the rows that correspond to the month of February. The other rows have been omitted.\n",
      "null\n"
     ]
    }
   ],
   "source": [
    "html_chunks = utils.html_chunker(table_rows, chunk_size=20)\n",
    "html_input = utils.html_to_str(html_chunks[0])\n",
    "output = html_to_json_ai(\n",
    "    html_input,\n",
    "    model=\"meta-llama/Llama-2-13b-chat-hf\",\n",
    "    api_key=config[\"ANYSCALE_API_KEY\"],\n",
    "    url=\"https://api.endpoints.anyscale.com/v1\",\n",
    ")\n",
    "print(json.dumps(output, indent=4))"
   ]
  },
  {
   "cell_type": "markdown",
   "metadata": {},
   "source": [
    "**Note**: llama tends to return additional text along with the actual json output, and it adjusts the keys in the json. Mistral gives the exact json as output\n"
   ]
  },
  {
   "cell_type": "markdown",
   "metadata": {},
   "source": [
    "# Trying with `mistral` and `llama` with prompts\n"
   ]
  },
  {
   "cell_type": "code",
   "execution_count": 22,
   "metadata": {},
   "outputs": [
    {
     "data": {
      "text/plain": [
       "{'properties': {'Weekend end date': {'description': 'Stores the last date of the week in the year 2023',\n",
       "   'title': 'Weekend End Date',\n",
       "   'type': 'string'},\n",
       "  'Film': {'description': 'Name of the movie',\n",
       "   'title': 'Film',\n",
       "   'type': 'string'},\n",
       "  'Gross': {'description': 'Gross income of the movie in the given weekend',\n",
       "   'title': 'Gross',\n",
       "   'type': 'string'},\n",
       "  'Notes': {'description': 'Some notes about the movie',\n",
       "   'title': 'Notes',\n",
       "   'type': 'string'}},\n",
       " 'required': ['Film', 'Gross', 'Notes', 'Weekend end date'],\n",
       " 'type': 'object'}"
      ]
     },
     "execution_count": 22,
     "metadata": {},
     "output_type": "execute_result"
    }
   ],
   "source": [
    "def html_to_json_ai(\n",
    "    data: str, model: str, format: str, api_key: str, url: str | None = None\n",
    ") -> dict:\n",
    "    \"\"\"\n",
    "    Function to convert the given raw HTML string into structured JSON object following a predefined schema\n",
    "    by calling llm using api keys\n",
    "\n",
    "    Parameters:\n",
    "    - data (str):       the raw string containing the html input\n",
    "    - model (str):      the name of the model endpoint to be called\n",
    "    - api_key (str):    the api key used for calling the server endpoint\n",
    "    - url (str | None): the base url used to make the query\n",
    "                        default: None\n",
    "\n",
    "    Output:\n",
    "    json dumped from the BoxOffice object after parsing the model response in the needed format\n",
    "    \"\"\"\n",
    "    client = openai.OpenAI(api_key=api_key, base_url=url)\n",
    "    completion = client.chat.completions.create(\n",
    "        model=model,\n",
    "        messages=[\n",
    "            {\n",
    "                \"role\": \"system\",\n",
    "                \"content\": \"You are a world class algorithm to convert html to json as per specified format\",\n",
    "            },\n",
    "            {\n",
    "                \"role\": \"user\",\n",
    "                \"content\": f\"Convert rows in given HTML to the specified JSON\",\n",
    "            },\n",
    "            {\"role\": \"user\", \"content\": f\"HTML input: ```{data}```\"},\n",
    "            # {\n",
    "            #     \"role\": \"user\",\n",
    "            #     \"content\": \"Tips: Make sure to pay attention to the attributes of the HTML tags, especialy the rowspan attributes\",\n",
    "            # },\n",
    "            # {\"role\": \"user\", \"content\": \"Tips: pay attention to the dates\"},\n",
    "        ],\n",
    "        temperature=0.7,\n",
    "    )\n",
    "    try:\n",
    "        return json.loads(completion.choices[0].message.content)\n",
    "    except:\n",
    "        print(completion.choices[0].message.content)"
   ]
  },
  {
   "cell_type": "code",
   "execution_count": null,
   "metadata": {},
   "outputs": [],
   "source": []
  }
 ],
 "metadata": {
  "kernelspec": {
   "display_name": "longshotai",
   "language": "python",
   "name": "python3"
  },
  "language_info": {
   "codemirror_mode": {
    "name": "ipython",
    "version": 3
   },
   "file_extension": ".py",
   "mimetype": "text/x-python",
   "name": "python",
   "nbconvert_exporter": "python",
   "pygments_lexer": "ipython3",
   "version": "3.11.6"
  }
 },
 "nbformat": 4,
 "nbformat_minor": 2
}
